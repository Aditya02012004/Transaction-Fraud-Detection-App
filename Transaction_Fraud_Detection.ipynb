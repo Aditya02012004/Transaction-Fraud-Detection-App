{
 "cells": [
  {
   "cell_type": "code",
   "execution_count": 1,
   "id": "574700e5-f172-4166-8adf-4628b3d2f53c",
   "metadata": {},
   "outputs": [],
   "source": [
    "import pandas as pd\n",
    "import numpy as np\n",
    "import matplotlib.pyplot as plt\n",
    "import seaborn as sns\n",
    "from sklearn.model_selection import train_test_split\n",
    "from sklearn.preprocessing import StandardScaler\n",
    "from sklearn.linear_model import LogisticRegression\n",
    "from sklearn.ensemble import RandomForestClassifier\n",
    "from sklearn.tree import DecisionTreeClassifier\n",
    "from sklearn.metrics import classification_report, confusion_matrix, roc_auc_score, roc_curve\n",
    "from imblearn.over_sampling import SMOTE\n",
    "\n",
    "\n",
    "from sklearn.metrics import accuracy_score, f1_score, precision_score, recall_score\n",
    "\n",
    "import joblib"
   ]
  },
  {
   "cell_type": "code",
   "execution_count": 2,
   "id": "b63243c6-5c51-4a90-874c-974dd760e223",
   "metadata": {},
   "outputs": [],
   "source": [
    "# Load dataset\n",
    "df = pd.read_csv('Final Transactions.csv')"
   ]
  },
  {
   "cell_type": "code",
   "execution_count": 3,
   "id": "e6c3a14d-ce7b-43ef-ad40-a467bc4642f0",
   "metadata": {},
   "outputs": [
    {
     "data": {
      "text/html": [
       "<div>\n",
       "<style scoped>\n",
       "    .dataframe tbody tr th:only-of-type {\n",
       "        vertical-align: middle;\n",
       "    }\n",
       "\n",
       "    .dataframe tbody tr th {\n",
       "        vertical-align: top;\n",
       "    }\n",
       "\n",
       "    .dataframe thead th {\n",
       "        text-align: right;\n",
       "    }\n",
       "</style>\n",
       "<table border=\"1\" class=\"dataframe\">\n",
       "  <thead>\n",
       "    <tr style=\"text-align: right;\">\n",
       "      <th></th>\n",
       "      <th>Unnamed: 0</th>\n",
       "      <th>TRANSACTION_ID</th>\n",
       "      <th>TX_DATETIME</th>\n",
       "      <th>CUSTOMER_ID</th>\n",
       "      <th>TERMINAL_ID</th>\n",
       "      <th>TX_AMOUNT</th>\n",
       "      <th>TX_TIME_SECONDS</th>\n",
       "      <th>TX_TIME_DAYS</th>\n",
       "      <th>TX_FRAUD</th>\n",
       "      <th>TX_FRAUD_SCENARIO</th>\n",
       "    </tr>\n",
       "  </thead>\n",
       "  <tbody>\n",
       "    <tr>\n",
       "      <th>0</th>\n",
       "      <td>0</td>\n",
       "      <td>0</td>\n",
       "      <td>2023-01-01 00:00:31</td>\n",
       "      <td>596</td>\n",
       "      <td>3156</td>\n",
       "      <td>533.07</td>\n",
       "      <td>31</td>\n",
       "      <td>0</td>\n",
       "      <td>0</td>\n",
       "      <td>0</td>\n",
       "    </tr>\n",
       "    <tr>\n",
       "      <th>1</th>\n",
       "      <td>1</td>\n",
       "      <td>1</td>\n",
       "      <td>2023-01-01 00:02:10</td>\n",
       "      <td>4961</td>\n",
       "      <td>3412</td>\n",
       "      <td>808.56</td>\n",
       "      <td>130</td>\n",
       "      <td>0</td>\n",
       "      <td>0</td>\n",
       "      <td>0</td>\n",
       "    </tr>\n",
       "    <tr>\n",
       "      <th>2</th>\n",
       "      <td>2</td>\n",
       "      <td>2</td>\n",
       "      <td>2023-01-01 00:07:56</td>\n",
       "      <td>2</td>\n",
       "      <td>1365</td>\n",
       "      <td>1442.94</td>\n",
       "      <td>476</td>\n",
       "      <td>0</td>\n",
       "      <td>1</td>\n",
       "      <td>1</td>\n",
       "    </tr>\n",
       "    <tr>\n",
       "      <th>3</th>\n",
       "      <td>3</td>\n",
       "      <td>3</td>\n",
       "      <td>2023-01-01 00:09:29</td>\n",
       "      <td>4128</td>\n",
       "      <td>8737</td>\n",
       "      <td>620.65</td>\n",
       "      <td>569</td>\n",
       "      <td>0</td>\n",
       "      <td>0</td>\n",
       "      <td>0</td>\n",
       "    </tr>\n",
       "    <tr>\n",
       "      <th>4</th>\n",
       "      <td>4</td>\n",
       "      <td>4</td>\n",
       "      <td>2023-01-01 00:10:34</td>\n",
       "      <td>927</td>\n",
       "      <td>9906</td>\n",
       "      <td>490.66</td>\n",
       "      <td>634</td>\n",
       "      <td>0</td>\n",
       "      <td>0</td>\n",
       "      <td>0</td>\n",
       "    </tr>\n",
       "  </tbody>\n",
       "</table>\n",
       "</div>"
      ],
      "text/plain": [
       "   Unnamed: 0  TRANSACTION_ID          TX_DATETIME  CUSTOMER_ID  TERMINAL_ID  \\\n",
       "0           0               0  2023-01-01 00:00:31          596         3156   \n",
       "1           1               1  2023-01-01 00:02:10         4961         3412   \n",
       "2           2               2  2023-01-01 00:07:56            2         1365   \n",
       "3           3               3  2023-01-01 00:09:29         4128         8737   \n",
       "4           4               4  2023-01-01 00:10:34          927         9906   \n",
       "\n",
       "   TX_AMOUNT  TX_TIME_SECONDS  TX_TIME_DAYS  TX_FRAUD  TX_FRAUD_SCENARIO  \n",
       "0     533.07               31             0         0                  0  \n",
       "1     808.56              130             0         0                  0  \n",
       "2    1442.94              476             0         1                  1  \n",
       "3     620.65              569             0         0                  0  \n",
       "4     490.66              634             0         0                  0  "
      ]
     },
     "execution_count": 3,
     "metadata": {},
     "output_type": "execute_result"
    }
   ],
   "source": [
    "# Display first few rows\n",
    "df.head()"
   ]
  },
  {
   "cell_type": "code",
   "execution_count": 4,
   "id": "d6016f67-c70d-468e-8cc3-047188ef584a",
   "metadata": {},
   "outputs": [
    {
     "data": {
      "text/html": [
       "<div>\n",
       "<style scoped>\n",
       "    .dataframe tbody tr th:only-of-type {\n",
       "        vertical-align: middle;\n",
       "    }\n",
       "\n",
       "    .dataframe tbody tr th {\n",
       "        vertical-align: top;\n",
       "    }\n",
       "\n",
       "    .dataframe thead th {\n",
       "        text-align: right;\n",
       "    }\n",
       "</style>\n",
       "<table border=\"1\" class=\"dataframe\">\n",
       "  <thead>\n",
       "    <tr style=\"text-align: right;\">\n",
       "      <th></th>\n",
       "      <th>Unnamed: 0</th>\n",
       "      <th>TRANSACTION_ID</th>\n",
       "      <th>TX_DATETIME</th>\n",
       "      <th>CUSTOMER_ID</th>\n",
       "      <th>TERMINAL_ID</th>\n",
       "      <th>TX_AMOUNT</th>\n",
       "      <th>TX_TIME_SECONDS</th>\n",
       "      <th>TX_TIME_DAYS</th>\n",
       "      <th>TX_FRAUD</th>\n",
       "      <th>TX_FRAUD_SCENARIO</th>\n",
       "    </tr>\n",
       "  </thead>\n",
       "  <tbody>\n",
       "    <tr>\n",
       "      <th>0</th>\n",
       "      <td>0</td>\n",
       "      <td>0</td>\n",
       "      <td>2023-01-01 00:00:31</td>\n",
       "      <td>596</td>\n",
       "      <td>3156</td>\n",
       "      <td>533.07</td>\n",
       "      <td>31</td>\n",
       "      <td>0</td>\n",
       "      <td>0</td>\n",
       "      <td>0</td>\n",
       "    </tr>\n",
       "    <tr>\n",
       "      <th>1</th>\n",
       "      <td>1</td>\n",
       "      <td>1</td>\n",
       "      <td>2023-01-01 00:02:10</td>\n",
       "      <td>4961</td>\n",
       "      <td>3412</td>\n",
       "      <td>808.56</td>\n",
       "      <td>130</td>\n",
       "      <td>0</td>\n",
       "      <td>0</td>\n",
       "      <td>0</td>\n",
       "    </tr>\n",
       "    <tr>\n",
       "      <th>2</th>\n",
       "      <td>2</td>\n",
       "      <td>2</td>\n",
       "      <td>2023-01-01 00:07:56</td>\n",
       "      <td>2</td>\n",
       "      <td>1365</td>\n",
       "      <td>1442.94</td>\n",
       "      <td>476</td>\n",
       "      <td>0</td>\n",
       "      <td>1</td>\n",
       "      <td>1</td>\n",
       "    </tr>\n",
       "    <tr>\n",
       "      <th>3</th>\n",
       "      <td>3</td>\n",
       "      <td>3</td>\n",
       "      <td>2023-01-01 00:09:29</td>\n",
       "      <td>4128</td>\n",
       "      <td>8737</td>\n",
       "      <td>620.65</td>\n",
       "      <td>569</td>\n",
       "      <td>0</td>\n",
       "      <td>0</td>\n",
       "      <td>0</td>\n",
       "    </tr>\n",
       "    <tr>\n",
       "      <th>4</th>\n",
       "      <td>4</td>\n",
       "      <td>4</td>\n",
       "      <td>2023-01-01 00:10:34</td>\n",
       "      <td>927</td>\n",
       "      <td>9906</td>\n",
       "      <td>490.66</td>\n",
       "      <td>634</td>\n",
       "      <td>0</td>\n",
       "      <td>0</td>\n",
       "      <td>0</td>\n",
       "    </tr>\n",
       "  </tbody>\n",
       "</table>\n",
       "</div>"
      ],
      "text/plain": [
       "   Unnamed: 0  TRANSACTION_ID          TX_DATETIME  CUSTOMER_ID  TERMINAL_ID  \\\n",
       "0           0               0  2023-01-01 00:00:31          596         3156   \n",
       "1           1               1  2023-01-01 00:02:10         4961         3412   \n",
       "2           2               2  2023-01-01 00:07:56            2         1365   \n",
       "3           3               3  2023-01-01 00:09:29         4128         8737   \n",
       "4           4               4  2023-01-01 00:10:34          927         9906   \n",
       "\n",
       "   TX_AMOUNT  TX_TIME_SECONDS  TX_TIME_DAYS  TX_FRAUD  TX_FRAUD_SCENARIO  \n",
       "0     533.07               31             0         0                  0  \n",
       "1     808.56              130             0         0                  0  \n",
       "2    1442.94              476             0         1                  1  \n",
       "3     620.65              569             0         0                  0  \n",
       "4     490.66              634             0         0                  0  "
      ]
     },
     "execution_count": 4,
     "metadata": {},
     "output_type": "execute_result"
    }
   ],
   "source": [
    "# Display All Columns\n",
    "pd.options.display.max_columns = None\n",
    "df.head()"
   ]
  },
  {
   "cell_type": "code",
   "execution_count": 5,
   "id": "2b97632d-87f4-48a1-83de-a4b3b4ef4a8c",
   "metadata": {},
   "outputs": [
    {
     "data": {
      "text/plain": [
       "(1754155, 10)"
      ]
     },
     "execution_count": 5,
     "metadata": {},
     "output_type": "execute_result"
    }
   ],
   "source": [
    "# Display dataset shape\n",
    "df.shape"
   ]
  },
  {
   "cell_type": "code",
   "execution_count": 6,
   "id": "f55560df-eebf-47f8-84cf-aa5d2f638b6c",
   "metadata": {},
   "outputs": [
    {
     "name": "stdout",
     "output_type": "stream",
     "text": [
      "<class 'pandas.core.frame.DataFrame'>\n",
      "RangeIndex: 1754155 entries, 0 to 1754154\n",
      "Data columns (total 10 columns):\n",
      " #   Column             Dtype  \n",
      "---  ------             -----  \n",
      " 0   Unnamed: 0         int64  \n",
      " 1   TRANSACTION_ID     int64  \n",
      " 2   TX_DATETIME        object \n",
      " 3   CUSTOMER_ID        int64  \n",
      " 4   TERMINAL_ID        int64  \n",
      " 5   TX_AMOUNT          float64\n",
      " 6   TX_TIME_SECONDS    int64  \n",
      " 7   TX_TIME_DAYS       int64  \n",
      " 8   TX_FRAUD           int64  \n",
      " 9   TX_FRAUD_SCENARIO  int64  \n",
      "dtypes: float64(1), int64(8), object(1)\n",
      "memory usage: 133.8+ MB\n"
     ]
    }
   ],
   "source": [
    "df.info()"
   ]
  },
  {
   "cell_type": "code",
   "execution_count": 7,
   "id": "dfd1896f-30eb-4657-bf36-0352798dba32",
   "metadata": {},
   "outputs": [
    {
     "name": "stdout",
     "output_type": "stream",
     "text": [
      "Number of columns: 10\n",
      "Number of rows: 1754155\n"
     ]
    }
   ],
   "source": [
    "print(\"Number of columns: {}\".format(df.shape[1]))\n",
    "print(\"Number of rows: {}\".format(df.shape[0]))"
   ]
  },
  {
   "cell_type": "code",
   "execution_count": 8,
   "id": "8908df78-470e-43af-afcf-1ab9d84e5e33",
   "metadata": {},
   "outputs": [],
   "source": [
    "df['TX_DATETIME'] = pd.to_datetime(df['TX_DATETIME'], errors='coerce')"
   ]
  },
  {
   "cell_type": "code",
   "execution_count": 9,
   "id": "907db7e0-ce2b-403f-b084-1aeed70c7a4d",
   "metadata": {},
   "outputs": [],
   "source": [
    "df['TX_DATE'] = df['TX_DATETIME'].dt.strftime('%Y%m%d').astype(int)  # Converting date to 'YYYYMMDD' format and then to int\n",
    "df['TX_TIME'] = df['TX_DATETIME'].dt.strftime('%H%M%S').astype(int)  # Converting time to 'HHMMSS' format and then to int"
   ]
  },
  {
   "cell_type": "code",
   "execution_count": 10,
   "id": "9df65f48-abaa-4f19-9c15-53508ff8113a",
   "metadata": {},
   "outputs": [],
   "source": [
    "df = df.drop(columns=['TX_DATETIME'])"
   ]
  },
  {
   "cell_type": "code",
   "execution_count": 11,
   "id": "fbe41494-4af9-45dd-8f59-135b55c38df6",
   "metadata": {},
   "outputs": [
    {
     "name": "stdout",
     "output_type": "stream",
     "text": [
      "<class 'pandas.core.frame.DataFrame'>\n",
      "RangeIndex: 1754155 entries, 0 to 1754154\n",
      "Data columns (total 11 columns):\n",
      " #   Column             Dtype  \n",
      "---  ------             -----  \n",
      " 0   Unnamed: 0         int64  \n",
      " 1   TRANSACTION_ID     int64  \n",
      " 2   CUSTOMER_ID        int64  \n",
      " 3   TERMINAL_ID        int64  \n",
      " 4   TX_AMOUNT          float64\n",
      " 5   TX_TIME_SECONDS    int64  \n",
      " 6   TX_TIME_DAYS       int64  \n",
      " 7   TX_FRAUD           int64  \n",
      " 8   TX_FRAUD_SCENARIO  int64  \n",
      " 9   TX_DATE            int64  \n",
      " 10  TX_TIME            int64  \n",
      "dtypes: float64(1), int64(10)\n",
      "memory usage: 147.2 MB\n"
     ]
    }
   ],
   "source": [
    "# Display dataset information\n",
    "df.info()"
   ]
  },
  {
   "cell_type": "code",
   "execution_count": 12,
   "id": "f9ec7220-d6ad-460a-9d2e-d21434ea1b06",
   "metadata": {},
   "outputs": [
    {
     "data": {
      "text/html": [
       "<div>\n",
       "<style scoped>\n",
       "    .dataframe tbody tr th:only-of-type {\n",
       "        vertical-align: middle;\n",
       "    }\n",
       "\n",
       "    .dataframe tbody tr th {\n",
       "        vertical-align: top;\n",
       "    }\n",
       "\n",
       "    .dataframe thead th {\n",
       "        text-align: right;\n",
       "    }\n",
       "</style>\n",
       "<table border=\"1\" class=\"dataframe\">\n",
       "  <thead>\n",
       "    <tr style=\"text-align: right;\">\n",
       "      <th></th>\n",
       "      <th>Unnamed: 0</th>\n",
       "      <th>TRANSACTION_ID</th>\n",
       "      <th>CUSTOMER_ID</th>\n",
       "      <th>TERMINAL_ID</th>\n",
       "      <th>TX_AMOUNT</th>\n",
       "      <th>TX_TIME_SECONDS</th>\n",
       "      <th>TX_TIME_DAYS</th>\n",
       "      <th>TX_FRAUD</th>\n",
       "      <th>TX_FRAUD_SCENARIO</th>\n",
       "      <th>TX_DATE</th>\n",
       "      <th>TX_TIME</th>\n",
       "    </tr>\n",
       "  </thead>\n",
       "  <tbody>\n",
       "    <tr>\n",
       "      <th>0</th>\n",
       "      <td>0</td>\n",
       "      <td>0</td>\n",
       "      <td>596</td>\n",
       "      <td>3156</td>\n",
       "      <td>533.07</td>\n",
       "      <td>31</td>\n",
       "      <td>0</td>\n",
       "      <td>0</td>\n",
       "      <td>0</td>\n",
       "      <td>20230101</td>\n",
       "      <td>31</td>\n",
       "    </tr>\n",
       "    <tr>\n",
       "      <th>1</th>\n",
       "      <td>1</td>\n",
       "      <td>1</td>\n",
       "      <td>4961</td>\n",
       "      <td>3412</td>\n",
       "      <td>808.56</td>\n",
       "      <td>130</td>\n",
       "      <td>0</td>\n",
       "      <td>0</td>\n",
       "      <td>0</td>\n",
       "      <td>20230101</td>\n",
       "      <td>210</td>\n",
       "    </tr>\n",
       "    <tr>\n",
       "      <th>2</th>\n",
       "      <td>2</td>\n",
       "      <td>2</td>\n",
       "      <td>2</td>\n",
       "      <td>1365</td>\n",
       "      <td>1442.94</td>\n",
       "      <td>476</td>\n",
       "      <td>0</td>\n",
       "      <td>1</td>\n",
       "      <td>1</td>\n",
       "      <td>20230101</td>\n",
       "      <td>756</td>\n",
       "    </tr>\n",
       "    <tr>\n",
       "      <th>3</th>\n",
       "      <td>3</td>\n",
       "      <td>3</td>\n",
       "      <td>4128</td>\n",
       "      <td>8737</td>\n",
       "      <td>620.65</td>\n",
       "      <td>569</td>\n",
       "      <td>0</td>\n",
       "      <td>0</td>\n",
       "      <td>0</td>\n",
       "      <td>20230101</td>\n",
       "      <td>929</td>\n",
       "    </tr>\n",
       "    <tr>\n",
       "      <th>4</th>\n",
       "      <td>4</td>\n",
       "      <td>4</td>\n",
       "      <td>927</td>\n",
       "      <td>9906</td>\n",
       "      <td>490.66</td>\n",
       "      <td>634</td>\n",
       "      <td>0</td>\n",
       "      <td>0</td>\n",
       "      <td>0</td>\n",
       "      <td>20230101</td>\n",
       "      <td>1034</td>\n",
       "    </tr>\n",
       "  </tbody>\n",
       "</table>\n",
       "</div>"
      ],
      "text/plain": [
       "   Unnamed: 0  TRANSACTION_ID  CUSTOMER_ID  TERMINAL_ID  TX_AMOUNT  \\\n",
       "0           0               0          596         3156     533.07   \n",
       "1           1               1         4961         3412     808.56   \n",
       "2           2               2            2         1365    1442.94   \n",
       "3           3               3         4128         8737     620.65   \n",
       "4           4               4          927         9906     490.66   \n",
       "\n",
       "   TX_TIME_SECONDS  TX_TIME_DAYS  TX_FRAUD  TX_FRAUD_SCENARIO   TX_DATE  \\\n",
       "0               31             0         0                  0  20230101   \n",
       "1              130             0         0                  0  20230101   \n",
       "2              476             0         1                  1  20230101   \n",
       "3              569             0         0                  0  20230101   \n",
       "4              634             0         0                  0  20230101   \n",
       "\n",
       "   TX_TIME  \n",
       "0       31  \n",
       "1      210  \n",
       "2      756  \n",
       "3      929  \n",
       "4     1034  "
      ]
     },
     "execution_count": 12,
     "metadata": {},
     "output_type": "execute_result"
    }
   ],
   "source": [
    "df.head()"
   ]
  },
  {
   "cell_type": "code",
   "execution_count": 13,
   "id": "7877122e-b93c-46f0-97c5-b118783c6074",
   "metadata": {},
   "outputs": [
    {
     "data": {
      "text/html": [
       "<div>\n",
       "<style scoped>\n",
       "    .dataframe tbody tr th:only-of-type {\n",
       "        vertical-align: middle;\n",
       "    }\n",
       "\n",
       "    .dataframe tbody tr th {\n",
       "        vertical-align: top;\n",
       "    }\n",
       "\n",
       "    .dataframe thead th {\n",
       "        text-align: right;\n",
       "    }\n",
       "</style>\n",
       "<table border=\"1\" class=\"dataframe\">\n",
       "  <thead>\n",
       "    <tr style=\"text-align: right;\">\n",
       "      <th></th>\n",
       "      <th>Unnamed: 0</th>\n",
       "      <th>TRANSACTION_ID</th>\n",
       "      <th>CUSTOMER_ID</th>\n",
       "      <th>TERMINAL_ID</th>\n",
       "      <th>TX_AMOUNT</th>\n",
       "      <th>TX_TIME_SECONDS</th>\n",
       "      <th>TX_TIME_DAYS</th>\n",
       "      <th>TX_FRAUD</th>\n",
       "      <th>TX_FRAUD_SCENARIO</th>\n",
       "      <th>TX_DATE</th>\n",
       "      <th>TX_TIME</th>\n",
       "    </tr>\n",
       "  </thead>\n",
       "  <tbody>\n",
       "    <tr>\n",
       "      <th>count</th>\n",
       "      <td>1.754155e+06</td>\n",
       "      <td>1.754155e+06</td>\n",
       "      <td>1.754155e+06</td>\n",
       "      <td>1.754155e+06</td>\n",
       "      <td>1.754155e+06</td>\n",
       "      <td>1.754155e+06</td>\n",
       "      <td>1.754155e+06</td>\n",
       "      <td>1.754155e+06</td>\n",
       "      <td>1.754155e+06</td>\n",
       "      <td>1.754155e+06</td>\n",
       "      <td>1.754155e+06</td>\n",
       "    </tr>\n",
       "    <tr>\n",
       "      <th>mean</th>\n",
       "      <td>8.770770e+05</td>\n",
       "      <td>8.770770e+05</td>\n",
       "      <td>2.504011e+03</td>\n",
       "      <td>4.996733e+03</td>\n",
       "      <td>5.396820e+02</td>\n",
       "      <td>7.903234e+06</td>\n",
       "      <td>9.097260e+01</td>\n",
       "      <td>1.345200e-01</td>\n",
       "      <td>1.449746e-01</td>\n",
       "      <td>2.023037e+07</td>\n",
       "      <td>1.179836e+05</td>\n",
       "    </tr>\n",
       "    <tr>\n",
       "      <th>std</th>\n",
       "      <td>5.063811e+05</td>\n",
       "      <td>5.063811e+05</td>\n",
       "      <td>1.445987e+03</td>\n",
       "      <td>2.886101e+03</td>\n",
       "      <td>1.179711e+03</td>\n",
       "      <td>4.565172e+06</td>\n",
       "      <td>5.283709e+01</td>\n",
       "      <td>3.412103e-01</td>\n",
       "      <td>3.874872e-01</td>\n",
       "      <td>1.739174e+02</td>\n",
       "      <td>5.052363e+04</td>\n",
       "    </tr>\n",
       "    <tr>\n",
       "      <th>min</th>\n",
       "      <td>0.000000e+00</td>\n",
       "      <td>0.000000e+00</td>\n",
       "      <td>0.000000e+00</td>\n",
       "      <td>0.000000e+00</td>\n",
       "      <td>0.000000e+00</td>\n",
       "      <td>3.100000e+01</td>\n",
       "      <td>0.000000e+00</td>\n",
       "      <td>0.000000e+00</td>\n",
       "      <td>0.000000e+00</td>\n",
       "      <td>2.023010e+07</td>\n",
       "      <td>1.000000e+00</td>\n",
       "    </tr>\n",
       "    <tr>\n",
       "      <th>25%</th>\n",
       "      <td>4.385385e+05</td>\n",
       "      <td>4.385385e+05</td>\n",
       "      <td>1.252000e+03</td>\n",
       "      <td>2.502000e+03</td>\n",
       "      <td>1.799500e+02</td>\n",
       "      <td>3.940846e+06</td>\n",
       "      <td>4.500000e+01</td>\n",
       "      <td>0.000000e+00</td>\n",
       "      <td>0.000000e+00</td>\n",
       "      <td>2.023022e+07</td>\n",
       "      <td>8.230000e+04</td>\n",
       "    </tr>\n",
       "    <tr>\n",
       "      <th>50%</th>\n",
       "      <td>8.770770e+05</td>\n",
       "      <td>8.770770e+05</td>\n",
       "      <td>2.506000e+03</td>\n",
       "      <td>4.994000e+03</td>\n",
       "      <td>4.217500e+02</td>\n",
       "      <td>7.902670e+06</td>\n",
       "      <td>9.100000e+01</td>\n",
       "      <td>0.000000e+00</td>\n",
       "      <td>0.000000e+00</td>\n",
       "      <td>2.023040e+07</td>\n",
       "      <td>1.159560e+05</td>\n",
       "    </tr>\n",
       "    <tr>\n",
       "      <th>75%</th>\n",
       "      <td>1.315616e+06</td>\n",
       "      <td>1.315616e+06</td>\n",
       "      <td>3.765000e+03</td>\n",
       "      <td>7.495000e+03</td>\n",
       "      <td>7.505950e+02</td>\n",
       "      <td>1.186566e+07</td>\n",
       "      <td>1.370000e+02</td>\n",
       "      <td>0.000000e+00</td>\n",
       "      <td>0.000000e+00</td>\n",
       "      <td>2.023052e+07</td>\n",
       "      <td>1.536460e+05</td>\n",
       "    </tr>\n",
       "    <tr>\n",
       "      <th>max</th>\n",
       "      <td>1.754154e+06</td>\n",
       "      <td>1.754154e+06</td>\n",
       "      <td>4.999000e+03</td>\n",
       "      <td>9.999000e+03</td>\n",
       "      <td>6.478375e+05</td>\n",
       "      <td>1.581120e+07</td>\n",
       "      <td>1.820000e+02</td>\n",
       "      <td>1.000000e+00</td>\n",
       "      <td>3.000000e+00</td>\n",
       "      <td>2.023070e+07</td>\n",
       "      <td>2.359590e+05</td>\n",
       "    </tr>\n",
       "  </tbody>\n",
       "</table>\n",
       "</div>"
      ],
      "text/plain": [
       "         Unnamed: 0  TRANSACTION_ID   CUSTOMER_ID   TERMINAL_ID     TX_AMOUNT  \\\n",
       "count  1.754155e+06    1.754155e+06  1.754155e+06  1.754155e+06  1.754155e+06   \n",
       "mean   8.770770e+05    8.770770e+05  2.504011e+03  4.996733e+03  5.396820e+02   \n",
       "std    5.063811e+05    5.063811e+05  1.445987e+03  2.886101e+03  1.179711e+03   \n",
       "min    0.000000e+00    0.000000e+00  0.000000e+00  0.000000e+00  0.000000e+00   \n",
       "25%    4.385385e+05    4.385385e+05  1.252000e+03  2.502000e+03  1.799500e+02   \n",
       "50%    8.770770e+05    8.770770e+05  2.506000e+03  4.994000e+03  4.217500e+02   \n",
       "75%    1.315616e+06    1.315616e+06  3.765000e+03  7.495000e+03  7.505950e+02   \n",
       "max    1.754154e+06    1.754154e+06  4.999000e+03  9.999000e+03  6.478375e+05   \n",
       "\n",
       "       TX_TIME_SECONDS  TX_TIME_DAYS      TX_FRAUD  TX_FRAUD_SCENARIO  \\\n",
       "count     1.754155e+06  1.754155e+06  1.754155e+06       1.754155e+06   \n",
       "mean      7.903234e+06  9.097260e+01  1.345200e-01       1.449746e-01   \n",
       "std       4.565172e+06  5.283709e+01  3.412103e-01       3.874872e-01   \n",
       "min       3.100000e+01  0.000000e+00  0.000000e+00       0.000000e+00   \n",
       "25%       3.940846e+06  4.500000e+01  0.000000e+00       0.000000e+00   \n",
       "50%       7.902670e+06  9.100000e+01  0.000000e+00       0.000000e+00   \n",
       "75%       1.186566e+07  1.370000e+02  0.000000e+00       0.000000e+00   \n",
       "max       1.581120e+07  1.820000e+02  1.000000e+00       3.000000e+00   \n",
       "\n",
       "            TX_DATE       TX_TIME  \n",
       "count  1.754155e+06  1.754155e+06  \n",
       "mean   2.023037e+07  1.179836e+05  \n",
       "std    1.739174e+02  5.052363e+04  \n",
       "min    2.023010e+07  1.000000e+00  \n",
       "25%    2.023022e+07  8.230000e+04  \n",
       "50%    2.023040e+07  1.159560e+05  \n",
       "75%    2.023052e+07  1.536460e+05  \n",
       "max    2.023070e+07  2.359590e+05  "
      ]
     },
     "execution_count": 13,
     "metadata": {},
     "output_type": "execute_result"
    }
   ],
   "source": [
    "# Summary statistics\n",
    "df.describe()"
   ]
  },
  {
   "cell_type": "markdown",
   "id": "b91eb5b4-d156-47f8-bca8-689624dc16a9",
   "metadata": {},
   "source": [
    "Visualize Class Imbalance\n",
    "Use seaborn to visualize the distribution of the target variable to understand class imbalance."
   ]
  },
  {
   "cell_type": "code",
   "execution_count": 14,
   "id": "5a49fa71-fc9e-400e-a06a-3b3b45be6b11",
   "metadata": {},
   "outputs": [
    {
     "data": {
      "text/plain": [
       "TX_FRAUD\n",
       "0    1518186\n",
       "1     235969\n",
       "Name: count, dtype: int64"
      ]
     },
     "execution_count": 14,
     "metadata": {},
     "output_type": "execute_result"
    }
   ],
   "source": [
    "df['TX_FRAUD'].value_counts()"
   ]
  },
  {
   "cell_type": "code",
   "execution_count": 15,
   "id": "203f9550-8d81-4bf7-9ea6-f5b5c2f77675",
   "metadata": {},
   "outputs": [
    {
     "data": {
      "image/png": "[encoded data removed]",
      "text/plain": [
       "<Figure size 800x600 with 1 Axes>"
      ]
     },
     "metadata": {},
     "output_type": "display_data"
    }
   ],
   "source": [
    "# Visualize the distribution of the target variable\n",
    "plt.style.use('ggplot')\n",
    "plt.figure(figsize=(8, 6))\n",
    "colors = [ \"#DF0101\", \"#0101DF\"]\n",
    "sns.countplot(x='TX_FRAUD', data = df, palette=colors, hue='TX_FRAUD')\n",
    "plt.title('Distribution of Fraud vs Normal Transactions \\n (0: Normal || 1: Fraud)', fontsize=11)\n",
    "plt.xlabel('TX_FRAUD')\n",
    "plt.ylabel('Count')\n",
    "plt.show()"
   ]
  },
  {
   "cell_type": "raw",
   "id": "09c39d5c-2f93-4d85-b7b5-6a7c226096e8",
   "metadata": {},
   "source": [
    "Data Preprocessing\n",
    "Check for missing or null values.\n",
    "Handle duplicates.\n",
    "Scale the features (Amount, Time).\n",
    "Split features and target."
   ]
  },
  {
   "cell_type": "code",
   "execution_count": 16,
   "id": "c6b10b7b-b159-44da-a29e-43df155eb3d0",
   "metadata": {},
   "outputs": [
    {
     "data": {
      "text/plain": [
       "np.int64(0)"
      ]
     },
     "execution_count": 16,
     "metadata": {},
     "output_type": "execute_result"
    }
   ],
   "source": [
    "# Check for missing values\n",
    "df.isnull().sum().sum()"
   ]
  },
  {
   "cell_type": "code",
   "execution_count": 17,
   "id": "eec11b18-d330-436c-a87b-25950f9b4559",
   "metadata": {},
   "outputs": [
    {
     "data": {
      "text/plain": [
       "np.int64(0)"
      ]
     },
     "execution_count": 17,
     "metadata": {},
     "output_type": "execute_result"
    }
   ],
   "source": [
    "# Check for duplicate rows\n",
    "df.duplicated().sum()"
   ]
  },
  {
   "cell_type": "code",
   "execution_count": 18,
   "id": "fb19242f-4a77-42eb-9e19-490b83f61841",
   "metadata": {},
   "outputs": [],
   "source": [
    "# Drop duplicate rows\n",
    "df.drop_duplicates(inplace=True)"
   ]
  },
  {
   "cell_type": "code",
   "execution_count": 19,
   "id": "9a8ac8c6-e060-4933-ad3a-6c216e7e4eba",
   "metadata": {},
   "outputs": [
    {
     "data": {
      "text/plain": [
       "(1754155, 11)"
      ]
     },
     "execution_count": 19,
     "metadata": {},
     "output_type": "execute_result"
    }
   ],
   "source": [
    "df.shape"
   ]
  },
  {
   "cell_type": "code",
   "execution_count": 20,
   "id": "50175d9a-99ec-40ee-b3d1-1bda01510492",
   "metadata": {},
   "outputs": [],
   "source": [
    "# Standardize 'Amount' and 'Time'\n",
    "scaler = StandardScaler()\n",
    "df['TX_AMOUNT'] = scaler.fit_transform(df[['TX_AMOUNT']])\n",
    "df['TX_TIME_SECONDS'] = scaler.fit_transform(df[['TX_TIME_SECONDS']])"
   ]
  },
  {
   "cell_type": "code",
   "execution_count": 21,
   "id": "9f32817c-f847-4f81-8002-85dadeb04add",
   "metadata": {},
   "outputs": [
    {
     "data": {
      "text/html": [
       "<div>\n",
       "<style scoped>\n",
       "    .dataframe tbody tr th:only-of-type {\n",
       "        vertical-align: middle;\n",
       "    }\n",
       "\n",
       "    .dataframe tbody tr th {\n",
       "        vertical-align: top;\n",
       "    }\n",
       "\n",
       "    .dataframe thead th {\n",
       "        text-align: right;\n",
       "    }\n",
       "</style>\n",
       "<table border=\"1\" class=\"dataframe\">\n",
       "  <thead>\n",
       "    <tr style=\"text-align: right;\">\n",
       "      <th></th>\n",
       "      <th>Unnamed: 0</th>\n",
       "      <th>TRANSACTION_ID</th>\n",
       "      <th>CUSTOMER_ID</th>\n",
       "      <th>TERMINAL_ID</th>\n",
       "      <th>TX_AMOUNT</th>\n",
       "      <th>TX_TIME_SECONDS</th>\n",
       "      <th>TX_TIME_DAYS</th>\n",
       "      <th>TX_FRAUD</th>\n",
       "      <th>TX_FRAUD_SCENARIO</th>\n",
       "      <th>TX_DATE</th>\n",
       "      <th>TX_TIME</th>\n",
       "    </tr>\n",
       "  </thead>\n",
       "  <tbody>\n",
       "    <tr>\n",
       "      <th>0</th>\n",
       "      <td>0</td>\n",
       "      <td>0</td>\n",
       "      <td>596</td>\n",
       "      <td>3156</td>\n",
       "      <td>-0.005605</td>\n",
       "      <td>-1.731195</td>\n",
       "      <td>0</td>\n",
       "      <td>0</td>\n",
       "      <td>0</td>\n",
       "      <td>20230101</td>\n",
       "      <td>31</td>\n",
       "    </tr>\n",
       "    <tr>\n",
       "      <th>1</th>\n",
       "      <td>1</td>\n",
       "      <td>1</td>\n",
       "      <td>4961</td>\n",
       "      <td>3412</td>\n",
       "      <td>0.227919</td>\n",
       "      <td>-1.731174</td>\n",
       "      <td>0</td>\n",
       "      <td>0</td>\n",
       "      <td>0</td>\n",
       "      <td>20230101</td>\n",
       "      <td>210</td>\n",
       "    </tr>\n",
       "    <tr>\n",
       "      <th>2</th>\n",
       "      <td>2</td>\n",
       "      <td>2</td>\n",
       "      <td>2</td>\n",
       "      <td>1365</td>\n",
       "      <td>0.765661</td>\n",
       "      <td>-1.731098</td>\n",
       "      <td>0</td>\n",
       "      <td>1</td>\n",
       "      <td>1</td>\n",
       "      <td>20230101</td>\n",
       "      <td>756</td>\n",
       "    </tr>\n",
       "    <tr>\n",
       "      <th>3</th>\n",
       "      <td>3</td>\n",
       "      <td>3</td>\n",
       "      <td>4128</td>\n",
       "      <td>8737</td>\n",
       "      <td>0.068634</td>\n",
       "      <td>-1.731077</td>\n",
       "      <td>0</td>\n",
       "      <td>0</td>\n",
       "      <td>0</td>\n",
       "      <td>20230101</td>\n",
       "      <td>929</td>\n",
       "    </tr>\n",
       "    <tr>\n",
       "      <th>4</th>\n",
       "      <td>4</td>\n",
       "      <td>4</td>\n",
       "      <td>927</td>\n",
       "      <td>9906</td>\n",
       "      <td>-0.041554</td>\n",
       "      <td>-1.731063</td>\n",
       "      <td>0</td>\n",
       "      <td>0</td>\n",
       "      <td>0</td>\n",
       "      <td>20230101</td>\n",
       "      <td>1034</td>\n",
       "    </tr>\n",
       "  </tbody>\n",
       "</table>\n",
       "</div>"
      ],
      "text/plain": [
       "   Unnamed: 0  TRANSACTION_ID  CUSTOMER_ID  TERMINAL_ID  TX_AMOUNT  \\\n",
       "0           0               0          596         3156  -0.005605   \n",
       "1           1               1         4961         3412   0.227919   \n",
       "2           2               2            2         1365   0.765661   \n",
       "3           3               3         4128         8737   0.068634   \n",
       "4           4               4          927         9906  -0.041554   \n",
       "\n",
       "   TX_TIME_SECONDS  TX_TIME_DAYS  TX_FRAUD  TX_FRAUD_SCENARIO   TX_DATE  \\\n",
       "0        -1.731195             0         0                  0  20230101   \n",
       "1        -1.731174             0         0                  0  20230101   \n",
       "2        -1.731098             0         1                  1  20230101   \n",
       "3        -1.731077             0         0                  0  20230101   \n",
       "4        -1.731063             0         0                  0  20230101   \n",
       "\n",
       "   TX_TIME  \n",
       "0       31  \n",
       "1      210  \n",
       "2      756  \n",
       "3      929  \n",
       "4     1034  "
      ]
     },
     "execution_count": 21,
     "metadata": {},
     "output_type": "execute_result"
    }
   ],
   "source": [
    "df.head()"
   ]
  },
  {
   "cell_type": "code",
   "execution_count": 22,
   "id": "32eb4cab-b343-410f-9710-63a623200fcc",
   "metadata": {},
   "outputs": [],
   "source": [
    "# Split features and target\n",
    "X = df.drop('TX_FRAUD', axis=1)\n",
    "y = df['TX_FRAUD']"
   ]
  },
  {
   "cell_type": "raw",
   "id": "9b20ae98-60ab-4740-ab87-3565498ebba5",
   "metadata": {},
   "source": [
    "Step 7: Investigate Correlations Between Features\n",
    "Correlation analysis helps to understand how features in the dataset relate to each other. High correlation between features might indicate redundancy, while low correlation can suggest that features capture different aspects of the data.\n",
    "\n",
    "Let's calculate and visualize the correlation matrix"
   ]
  },
  {
   "cell_type": "code",
   "execution_count": 23,
   "id": "985afdf5-abdf-4055-90ee-025b84e030f6",
   "metadata": {},
   "outputs": [
    {
     "name": "stdout",
     "output_type": "stream",
     "text": [
      "<class 'pandas.core.frame.DataFrame'>\n",
      "RangeIndex: 1754155 entries, 0 to 1754154\n",
      "Data columns (total 11 columns):\n",
      " #   Column             Dtype  \n",
      "---  ------             -----  \n",
      " 0   Unnamed: 0         int64  \n",
      " 1   TRANSACTION_ID     int64  \n",
      " 2   CUSTOMER_ID        int64  \n",
      " 3   TERMINAL_ID        int64  \n",
      " 4   TX_AMOUNT          float64\n",
      " 5   TX_TIME_SECONDS    float64\n",
      " 6   TX_TIME_DAYS       int64  \n",
      " 7   TX_FRAUD           int64  \n",
      " 8   TX_FRAUD_SCENARIO  int64  \n",
      " 9   TX_DATE            int64  \n",
      " 10  TX_TIME            int64  \n",
      "dtypes: float64(2), int64(9)\n",
      "memory usage: 147.2 MB\n"
     ]
    }
   ],
   "source": [
    "df.info()"
   ]
  },
  {
   "cell_type": "code",
   "execution_count": 24,
   "id": "afd8efca-f019-4ee0-9bd6-336b0db827a5",
   "metadata": {},
   "outputs": [
    {
     "data": {
      "text/html": [
       "<div>\n",
       "<style scoped>\n",
       "    .dataframe tbody tr th:only-of-type {\n",
       "        vertical-align: middle;\n",
       "    }\n",
       "\n",
       "    .dataframe tbody tr th {\n",
       "        vertical-align: top;\n",
       "    }\n",
       "\n",
       "    .dataframe thead th {\n",
       "        text-align: right;\n",
       "    }\n",
       "</style>\n",
       "<table border=\"1\" class=\"dataframe\">\n",
       "  <thead>\n",
       "    <tr style=\"text-align: right;\">\n",
       "      <th></th>\n",
       "      <th>Unnamed: 0</th>\n",
       "      <th>TRANSACTION_ID</th>\n",
       "      <th>CUSTOMER_ID</th>\n",
       "      <th>TERMINAL_ID</th>\n",
       "      <th>TX_AMOUNT</th>\n",
       "      <th>TX_TIME_SECONDS</th>\n",
       "      <th>TX_TIME_DAYS</th>\n",
       "      <th>TX_FRAUD</th>\n",
       "      <th>TX_FRAUD_SCENARIO</th>\n",
       "      <th>TX_DATE</th>\n",
       "      <th>TX_TIME</th>\n",
       "    </tr>\n",
       "  </thead>\n",
       "  <tbody>\n",
       "    <tr>\n",
       "      <th>Unnamed: 0</th>\n",
       "      <td>1.000000</td>\n",
       "      <td>1.000000</td>\n",
       "      <td>-0.000389</td>\n",
       "      <td>-0.000690</td>\n",
       "      <td>0.002455</td>\n",
       "      <td>0.999999</td>\n",
       "      <td>0.999985</td>\n",
       "      <td>0.002650</td>\n",
       "      <td>0.004748</td>\n",
       "      <td>0.993175</td>\n",
       "      <td>0.005996</td>\n",
       "    </tr>\n",
       "    <tr>\n",
       "      <th>TRANSACTION_ID</th>\n",
       "      <td>1.000000</td>\n",
       "      <td>1.000000</td>\n",
       "      <td>-0.000389</td>\n",
       "      <td>-0.000690</td>\n",
       "      <td>0.002455</td>\n",
       "      <td>0.999999</td>\n",
       "      <td>0.999985</td>\n",
       "      <td>0.002650</td>\n",
       "      <td>0.004748</td>\n",
       "      <td>0.993175</td>\n",
       "      <td>0.005996</td>\n",
       "    </tr>\n",
       "    <tr>\n",
       "      <th>CUSTOMER_ID</th>\n",
       "      <td>-0.000389</td>\n",
       "      <td>-0.000389</td>\n",
       "      <td>1.000000</td>\n",
       "      <td>0.000389</td>\n",
       "      <td>-0.002633</td>\n",
       "      <td>-0.000389</td>\n",
       "      <td>-0.000389</td>\n",
       "      <td>0.004353</td>\n",
       "      <td>0.002359</td>\n",
       "      <td>-0.000143</td>\n",
       "      <td>-0.000010</td>\n",
       "    </tr>\n",
       "    <tr>\n",
       "      <th>TERMINAL_ID</th>\n",
       "      <td>-0.000690</td>\n",
       "      <td>-0.000690</td>\n",
       "      <td>0.000389</td>\n",
       "      <td>1.000000</td>\n",
       "      <td>-0.000758</td>\n",
       "      <td>-0.000690</td>\n",
       "      <td>-0.000690</td>\n",
       "      <td>-0.002160</td>\n",
       "      <td>-0.003291</td>\n",
       "      <td>-0.000773</td>\n",
       "      <td>-0.000037</td>\n",
       "    </tr>\n",
       "    <tr>\n",
       "      <th>TX_AMOUNT</th>\n",
       "      <td>0.002455</td>\n",
       "      <td>0.002455</td>\n",
       "      <td>-0.002633</td>\n",
       "      <td>-0.000758</td>\n",
       "      <td>1.000000</td>\n",
       "      <td>0.002453</td>\n",
       "      <td>0.002449</td>\n",
       "      <td>0.313427</td>\n",
       "      <td>0.416883</td>\n",
       "      <td>0.002344</td>\n",
       "      <td>0.001070</td>\n",
       "    </tr>\n",
       "    <tr>\n",
       "      <th>TX_TIME_SECONDS</th>\n",
       "      <td>0.999999</td>\n",
       "      <td>0.999999</td>\n",
       "      <td>-0.000389</td>\n",
       "      <td>-0.000690</td>\n",
       "      <td>0.002453</td>\n",
       "      <td>1.000000</td>\n",
       "      <td>0.999992</td>\n",
       "      <td>0.002650</td>\n",
       "      <td>0.004746</td>\n",
       "      <td>0.993188</td>\n",
       "      <td>0.004576</td>\n",
       "    </tr>\n",
       "    <tr>\n",
       "      <th>TX_TIME_DAYS</th>\n",
       "      <td>0.999985</td>\n",
       "      <td>0.999985</td>\n",
       "      <td>-0.000389</td>\n",
       "      <td>-0.000690</td>\n",
       "      <td>0.002449</td>\n",
       "      <td>0.999992</td>\n",
       "      <td>1.000000</td>\n",
       "      <td>0.002650</td>\n",
       "      <td>0.004746</td>\n",
       "      <td>0.993196</td>\n",
       "      <td>0.000592</td>\n",
       "    </tr>\n",
       "    <tr>\n",
       "      <th>TX_FRAUD</th>\n",
       "      <td>0.002650</td>\n",
       "      <td>0.002650</td>\n",
       "      <td>0.004353</td>\n",
       "      <td>-0.002160</td>\n",
       "      <td>0.313427</td>\n",
       "      <td>0.002650</td>\n",
       "      <td>0.002650</td>\n",
       "      <td>1.000000</td>\n",
       "      <td>0.949008</td>\n",
       "      <td>0.002555</td>\n",
       "      <td>0.000070</td>\n",
       "    </tr>\n",
       "    <tr>\n",
       "      <th>TX_FRAUD_SCENARIO</th>\n",
       "      <td>0.004748</td>\n",
       "      <td>0.004748</td>\n",
       "      <td>0.002359</td>\n",
       "      <td>-0.003291</td>\n",
       "      <td>0.416883</td>\n",
       "      <td>0.004746</td>\n",
       "      <td>0.004746</td>\n",
       "      <td>0.949008</td>\n",
       "      <td>1.000000</td>\n",
       "      <td>0.004540</td>\n",
       "      <td>0.000085</td>\n",
       "    </tr>\n",
       "    <tr>\n",
       "      <th>TX_DATE</th>\n",
       "      <td>0.993175</td>\n",
       "      <td>0.993175</td>\n",
       "      <td>-0.000143</td>\n",
       "      <td>-0.000773</td>\n",
       "      <td>0.002344</td>\n",
       "      <td>0.993188</td>\n",
       "      <td>0.993196</td>\n",
       "      <td>0.002555</td>\n",
       "      <td>0.004540</td>\n",
       "      <td>1.000000</td>\n",
       "      <td>0.000505</td>\n",
       "    </tr>\n",
       "    <tr>\n",
       "      <th>TX_TIME</th>\n",
       "      <td>0.005996</td>\n",
       "      <td>0.005996</td>\n",
       "      <td>-0.000010</td>\n",
       "      <td>-0.000037</td>\n",
       "      <td>0.001070</td>\n",
       "      <td>0.004576</td>\n",
       "      <td>0.000592</td>\n",
       "      <td>0.000070</td>\n",
       "      <td>0.000085</td>\n",
       "      <td>0.000505</td>\n",
       "      <td>1.000000</td>\n",
       "    </tr>\n",
       "  </tbody>\n",
       "</table>\n",
       "</div>"
      ],
      "text/plain": [
       "                   Unnamed: 0  TRANSACTION_ID  CUSTOMER_ID  TERMINAL_ID  \\\n",
       "Unnamed: 0           1.000000        1.000000    -0.000389    -0.000690   \n",
       "TRANSACTION_ID       1.000000        1.000000    -0.000389    -0.000690   \n",
       "CUSTOMER_ID         -0.000389       -0.000389     1.000000     0.000389   \n",
       "TERMINAL_ID         -0.000690       -0.000690     0.000389     1.000000   \n",
       "TX_AMOUNT            0.002455        0.002455    -0.002633    -0.000758   \n",
       "TX_TIME_SECONDS      0.999999        0.999999    -0.000389    -0.000690   \n",
       "TX_TIME_DAYS         0.999985        0.999985    -0.000389    -0.000690   \n",
       "TX_FRAUD             0.002650        0.002650     0.004353    -0.002160   \n",
       "TX_FRAUD_SCENARIO    0.004748        0.004748     0.002359    -0.003291   \n",
       "TX_DATE              0.993175        0.993175    -0.000143    -0.000773   \n",
       "TX_TIME              0.005996        0.005996    -0.000010    -0.000037   \n",
       "\n",
       "                   TX_AMOUNT  TX_TIME_SECONDS  TX_TIME_DAYS  TX_FRAUD  \\\n",
       "Unnamed: 0          0.002455         0.999999      0.999985  0.002650   \n",
       "TRANSACTION_ID      0.002455         0.999999      0.999985  0.002650   \n",
       "CUSTOMER_ID        -0.002633        -0.000389     -0.000389  0.004353   \n",
       "TERMINAL_ID        -0.000758        -0.000690     -0.000690 -0.002160   \n",
       "TX_AMOUNT           1.000000         0.002453      0.002449  0.313427   \n",
       "TX_TIME_SECONDS     0.002453         1.000000      0.999992  0.002650   \n",
       "TX_TIME_DAYS        0.002449         0.999992      1.000000  0.002650   \n",
       "TX_FRAUD            0.313427         0.002650      0.002650  1.000000   \n",
       "TX_FRAUD_SCENARIO   0.416883         0.004746      0.004746  0.949008   \n",
       "TX_DATE             0.002344         0.993188      0.993196  0.002555   \n",
       "TX_TIME             0.001070         0.004576      0.000592  0.000070   \n",
       "\n",
       "                   TX_FRAUD_SCENARIO   TX_DATE   TX_TIME  \n",
       "Unnamed: 0                  0.004748  0.993175  0.005996  \n",
       "TRANSACTION_ID              0.004748  0.993175  0.005996  \n",
       "CUSTOMER_ID                 0.002359 -0.000143 -0.000010  \n",
       "TERMINAL_ID                -0.003291 -0.000773 -0.000037  \n",
       "TX_AMOUNT                   0.416883  0.002344  0.001070  \n",
       "TX_TIME_SECONDS             0.004746  0.993188  0.004576  \n",
       "TX_TIME_DAYS                0.004746  0.993196  0.000592  \n",
       "TX_FRAUD                    0.949008  0.002555  0.000070  \n",
       "TX_FRAUD_SCENARIO           1.000000  0.004540  0.000085  \n",
       "TX_DATE                     0.004540  1.000000  0.000505  \n",
       "TX_TIME                     0.000085  0.000505  1.000000  "
      ]
     },
     "execution_count": 24,
     "metadata": {},
     "output_type": "execute_result"
    }
   ],
   "source": [
    "# Calculate the correlation matrix\n",
    "corr_matrix = df.corr()\n",
    "corr_matrix"
   ]
  },
  {
   "cell_type": "code",
   "execution_count": 25,
   "id": "27ca7951-9c16-46f0-85c4-d72ca9e1f1bc",
   "metadata": {},
   "outputs": [
    {
     "data": {
      "image/png": "[encoded data removed]",
      "text/plain": [
       "<Figure size 1500x1200 with 2 Axes>"
      ]
     },
     "metadata": {},
     "output_type": "display_data"
    }
   ],
   "source": [
    "# Plot the Heatmap\n",
    "plt.figure(figsize=(15,12))\n",
    "sns.heatmap(corr_matrix, annot=True, fmt='.2f', linewidths=0.5, annot_kws={\"size\":7})\n",
    "plt.title('Correlation Matrix of Features')\n",
    "plt.show()"
   ]
  },
  {
   "cell_type": "markdown",
   "id": "49cbf452-1159-4cc0-85e0-f58bd834fa58",
   "metadata": {},
   "source": [
    "Split Data into Training and Test Sets"
   ]
  },
  {
   "cell_type": "code",
   "execution_count": 26,
   "id": "63693513-2f0b-4bd7-9fee-cea48954e7de",
   "metadata": {},
   "outputs": [],
   "source": [
    "# Train-test split with imbalanced data\n",
    "X_train, X_test, y_train, y_test = train_test_split(X, y, test_size=0.2, random_state=42)"
   ]
  },
  {
   "cell_type": "code",
   "execution_count": 27,
   "id": "3371504c-7aa5-4d4c-bc83-d77e90a9f4e3",
   "metadata": {},
   "outputs": [
    {
     "data": {
      "text/plain": [
       "(1403324, 10)"
      ]
     },
     "execution_count": 27,
     "metadata": {},
     "output_type": "execute_result"
    }
   ],
   "source": [
    "# Check the shape\n",
    "X_train.shape"
   ]
  },
  {
   "cell_type": "code",
   "execution_count": 28,
   "id": "af65930d-1a2b-4357-b8b8-323ee3c5aa10",
   "metadata": {},
   "outputs": [
    {
     "data": {
      "text/plain": [
       "(350831, 10)"
      ]
     },
     "execution_count": 28,
     "metadata": {},
     "output_type": "execute_result"
    }
   ],
   "source": [
    "X_test.shape"
   ]
  },
  {
   "cell_type": "code",
   "execution_count": 29,
   "id": "e0f1b96e-975c-4ce0-b312-f87c4b47fb72",
   "metadata": {},
   "outputs": [
    {
     "name": "stdout",
     "output_type": "stream",
     "text": [
      "<class 'pandas.core.frame.DataFrame'>\n",
      "Index: 350831 entries, 1522835 to 1515046\n",
      "Data columns (total 10 columns):\n",
      " #   Column             Non-Null Count   Dtype  \n",
      "---  ------             --------------   -----  \n",
      " 0   Unnamed: 0         350831 non-null  int64  \n",
      " 1   TRANSACTION_ID     350831 non-null  int64  \n",
      " 2   CUSTOMER_ID        350831 non-null  int64  \n",
      " 3   TERMINAL_ID        350831 non-null  int64  \n",
      " 4   TX_AMOUNT          350831 non-null  float64\n",
      " 5   TX_TIME_SECONDS    350831 non-null  float64\n",
      " 6   TX_TIME_DAYS       350831 non-null  int64  \n",
      " 7   TX_FRAUD_SCENARIO  350831 non-null  int64  \n",
      " 8   TX_DATE            350831 non-null  int64  \n",
      " 9   TX_TIME            350831 non-null  int64  \n",
      "dtypes: float64(2), int64(8)\n",
      "memory usage: 29.4 MB\n"
     ]
    }
   ],
   "source": [
    "X_test.info()"
   ]
  },
  {
   "cell_type": "code",
   "execution_count": 30,
   "id": "1f8a3ee4-6be0-44af-9a79-13f9d1aec59b",
   "metadata": {},
   "outputs": [
    {
     "name": "stdout",
     "output_type": "stream",
     "text": [
      "<class 'pandas.core.frame.DataFrame'>\n",
      "Index: 1403324 entries, 1741849 to 121958\n",
      "Data columns (total 10 columns):\n",
      " #   Column             Non-Null Count    Dtype  \n",
      "---  ------             --------------    -----  \n",
      " 0   Unnamed: 0         1403324 non-null  int64  \n",
      " 1   TRANSACTION_ID     1403324 non-null  int64  \n",
      " 2   CUSTOMER_ID        1403324 non-null  int64  \n",
      " 3   TERMINAL_ID        1403324 non-null  int64  \n",
      " 4   TX_AMOUNT          1403324 non-null  float64\n",
      " 5   TX_TIME_SECONDS    1403324 non-null  float64\n",
      " 6   TX_TIME_DAYS       1403324 non-null  int64  \n",
      " 7   TX_FRAUD_SCENARIO  1403324 non-null  int64  \n",
      " 8   TX_DATE            1403324 non-null  int64  \n",
      " 9   TX_TIME            1403324 non-null  int64  \n",
      "dtypes: float64(2), int64(8)\n",
      "memory usage: 117.8 MB\n"
     ]
    }
   ],
   "source": [
    "X_train.info()"
   ]
  },
  {
   "cell_type": "raw",
   "id": "772263dd-5622-4858-953a-cfdad0568052",
   "metadata": {},
   "source": [
    "Train and Evaluate Model on Imbalanced Data\n",
    "Train a model and evaluate its performance on the imbalanced dataset."
   ]
  },
  {
   "cell_type": "code",
   "execution_count": 31,
   "id": "d0bf5700-2adc-4bb3-9e9f-20fa4489d10b",
   "metadata": {},
   "outputs": [],
   "source": [
    "def train_model(X_train, X_test, y_train, y_test):\n",
    "    \"\"\"\n",
    "    Trains and evaluates multiple classifiers on the given training and test datasets.\n",
    "\n",
    "    This function takes training and test feature sets and labels, trains three different classifiers\n",
    "    (Logistic Regression, Decision Tree Classifier, and RandomForestClassifier) on the training data, \n",
    "    and evaluates their performance on the test data. For each classifier, it prints the confusion matrix, \n",
    "    classification report, ROC-AUC score, and plots the ROC curve.\n",
    "\n",
    "    Parameters:\n",
    "    X_train (pd.DataFrame or np.ndarray): Features of the training data.\n",
    "    X_test (pd.DataFrame or np.ndarray): Features of the test data.\n",
    "    y_train (pd.Series or np.ndarray): Labels of the training data.\n",
    "    y_test (pd.Series or np.ndarray): Labels of the test data.\n",
    "\n",
    "     Returns:\n",
    "    None: This function does not return any values but prints evaluation metrics and plots.\n",
    "\n",
    "    Notes:\n",
    "    - The function assumes that the test data includes both positive and negative class samples.\n",
    "    - ROC-AUC scores and ROC curves are only meaningful if the classifier provides probability estimates \n",
    "      for the positive class.\n",
    "    - This function will display the ROC curves in separate plots for each classifier.\n",
    "    \"\"\"\n",
    "    \n",
    "    classifier = {\n",
    "        \"Logistic Regression\": LogisticRegression(max_iter=200),\n",
    "        \"Decision Tree Classifier\": DecisionTreeClassifier(),\n",
    "        \"RandomForestClassifier\": RandomForestClassifier(random_state=42)\n",
    "    }\n",
    "\n",
    "    for name, model in classifier.items():\n",
    "        print(f\"\\n================ {name} ================\\n\")\n",
    "        model.fit(X_train, y_train)\n",
    "        \n",
    "        # Make predictions\n",
    "        y_pred = model.predict(X_test)\n",
    "        \n",
    "        # Confusion matrix\n",
    "        conf_matrix = confusion_matrix(y_test, y_pred)\n",
    "        print(f\"Confusion Matrix:\\n{conf_matrix}\\n\")\n",
    "\n",
    "        # Accuracy\n",
    "        print(f\"\\nAccuracy: {accuracy_score(y_test, y_pred)}\\n\")\n",
    "        \n",
    "        # Classification report\n",
    "        clf_report = classification_report(y_test, y_pred)\n",
    "        print(f\"\\nClassification Report:\\n{clf_report}\\n\")\n",
    "\n",
    "        # ROC-AUC Score\n",
    "        roc_auc = roc_auc_score(y_test, y_pred)\n",
    "        print(f\"ROC-AUC Score (Imbalanced Data): {roc_auc}\\n\")\n",
    "    \n",
    "        # Plot ROC Curve\n",
    "        fpr, tpr, thresholds = roc_curve(y_test, model.predict_proba(X_test)[:, 1])\n",
    "        plt.plot(fpr, tpr, label=f'ROC curve (area = {roc_auc:.2f})')\n",
    "        plt.xlabel('False Positive Rate')\n",
    "        plt.ylabel('True Positive Rate')\n",
    "        plt.title(f'ROC Curve (Imbalanced Data)\\nusing {name}', fontsize=10)\n",
    "        plt.legend(loc='best')\n",
    "        plt.show()\n",
    "        print(\"\\n\")"
   ]
  },
  {
   "cell_type": "code",
   "execution_count": 32,
   "id": "69db64bc-1ad1-4a95-a433-a6f956c48167",
   "metadata": {},
   "outputs": [
    {
     "name": "stdout",
     "output_type": "stream",
     "text": [
      "\n",
      "================ Logistic Regression ================\n",
      "\n",
      "Confusion Matrix:\n",
      "[[303524      0]\n",
      " [     0  47307]]\n",
      "\n",
      "\n",
      "Accuracy: 1.0\n",
      "\n",
      "\n",
      "Classification Report:\n",
      "              precision    recall  f1-score   support\n",
      "\n",
      "           0       1.00      1.00      1.00    303524\n",
      "           1       1.00      1.00      1.00     47307\n",
      "\n",
      "    accuracy                           1.00    350831\n",
      "   macro avg       1.00      1.00      1.00    350831\n",
      "weighted avg       1.00      1.00      1.00    350831\n",
      "\n",
      "\n",
      "ROC-AUC Score (Imbalanced Data): 1.0\n",
      "\n"
     ]
    },
    {
     "data": {
      "image/png": "[encoded data removed]",
      "text/plain": [
       "<Figure size 640x480 with 1 Axes>"
      ]
     },
     "metadata": {},
     "output_type": "display_data"
    },
    {
     "name": "stdout",
     "output_type": "stream",
     "text": [
      "\n",
      "\n",
      "\n",
      "================ Decision Tree Classifier ================\n",
      "\n",
      "Confusion Matrix:\n",
      "[[303524      0]\n",
      " [     0  47307]]\n",
      "\n",
      "\n",
      "Accuracy: 1.0\n",
      "\n",
      "\n",
      "Classification Report:\n",
      "              precision    recall  f1-score   support\n",
      "\n",
      "           0       1.00      1.00      1.00    303524\n",
      "           1       1.00      1.00      1.00     47307\n",
      "\n",
      "    accuracy                           1.00    350831\n",
      "   macro avg       1.00      1.00      1.00    350831\n",
      "weighted avg       1.00      1.00      1.00    350831\n",
      "\n",
      "\n",
      "ROC-AUC Score (Imbalanced Data): 1.0\n",
      "\n"
     ]
    },
    {
     "data": {
      "image/png": "[encoded data removed]",
      "text/plain": [
       "<Figure size 640x480 with 1 Axes>"
      ]
     },
     "metadata": {},
     "output_type": "display_data"
    },
    {
     "name": "stdout",
     "output_type": "stream",
     "text": [
      "\n",
      "\n",
      "\n",
      "================ RandomForestClassifier ================\n",
      "\n",
      "Confusion Matrix:\n",
      "[[303524      0]\n",
      " [     0  47307]]\n",
      "\n",
      "\n",
      "Accuracy: 1.0\n",
      "\n",
      "\n",
      "Classification Report:\n",
      "              precision    recall  f1-score   support\n",
      "\n",
      "           0       1.00      1.00      1.00    303524\n",
      "           1       1.00      1.00      1.00     47307\n",
      "\n",
      "    accuracy                           1.00    350831\n",
      "   macro avg       1.00      1.00      1.00    350831\n",
      "weighted avg       1.00      1.00      1.00    350831\n",
      "\n",
      "\n",
      "ROC-AUC Score (Imbalanced Data): 1.0\n",
      "\n"
     ]
    },
    {
     "data": {
      "image/png": "[encoded data removed]",
      "text/plain": [
       "<Figure size 640x480 with 1 Axes>"
      ]
     },
     "metadata": {},
     "output_type": "display_data"
    },
    {
     "name": "stdout",
     "output_type": "stream",
     "text": [
      "\n",
      "\n"
     ]
    }
   ],
   "source": [
    "# Call the train_model function\n",
    "train_model(X_train, X_test, y_train, y_test)"
   ]
  },
  {
   "cell_type": "raw",
   "id": "67378c7c-109e-45df-991d-e6f560ffbe8b",
   "metadata": {},
   "source": [
    "Handling Imbalanced Data\n",
    "Two techniques:\n",
    "\n",
    "Undersampling\n",
    "Oversampling"
   ]
  },
  {
   "cell_type": "markdown",
   "id": "ab7bbec0-ac8c-4e9c-b694-60ff4ff5368d",
   "metadata": {},
   "source": [
    "Undersampling"
   ]
  },
  {
   "cell_type": "code",
   "execution_count": 33,
   "id": "1d527402-e6a3-4a5d-bec7-d6bfcd0d9927",
   "metadata": {},
   "outputs": [
    {
     "name": "stdout",
     "output_type": "stream",
     "text": [
      "Normal transactions shape: (1518186, 11)\n",
      "Fraud transactions shape: (235969, 11)\n"
     ]
    }
   ],
   "source": [
    "# Separate normal and fraud transactions\n",
    "normal = df[df['TX_FRAUD']==0]\n",
    "fraud = df[df['TX_FRAUD']==1]\n",
    "\n",
    "# Print shape for reference\n",
    "print(f\"Normal transactions shape: {normal.shape}\")\n",
    "print(f\"Fraud transactions shape: {fraud.shape}\")"
   ]
  },
  {
   "cell_type": "code",
   "execution_count": 34,
   "id": "953489d7-c027-4f0a-8af9-f47957820cca",
   "metadata": {},
   "outputs": [],
   "source": [
    "# Undersample normal transactions\n",
    "normal_sample = normal.sample(n=fraud.shape[0])"
   ]
  },
  {
   "cell_type": "code",
   "execution_count": 35,
   "id": "61920adf-19d9-4df6-99b6-ebe000d571e9",
   "metadata": {},
   "outputs": [
    {
     "name": "stdout",
     "output_type": "stream",
     "text": [
      "New normal transactions shape: (235969, 11)\n"
     ]
    }
   ],
   "source": [
    "# Print the shape of the new normal transactions\n",
    "print(f\"New normal transactions shape: {normal_sample.shape}\")"
   ]
  },
  {
   "cell_type": "code",
   "execution_count": 36,
   "id": "4b486054-0d0b-4be3-a6ee-cd7ce6955e38",
   "metadata": {},
   "outputs": [],
   "source": [
    "# Concate updated normal transcations with old fraud transaction and make a new df\n",
    "new_df = pd.concat([normal_sample, fraud], ignore_index=True)"
   ]
  },
  {
   "cell_type": "code",
   "execution_count": 37,
   "id": "f3f14351-0221-41aa-a0f3-bdc1f06dd9cd",
   "metadata": {},
   "outputs": [
    {
     "data": {
      "text/html": [
       "<div>\n",
       "<style scoped>\n",
       "    .dataframe tbody tr th:only-of-type {\n",
       "        vertical-align: middle;\n",
       "    }\n",
       "\n",
       "    .dataframe tbody tr th {\n",
       "        vertical-align: top;\n",
       "    }\n",
       "\n",
       "    .dataframe thead th {\n",
       "        text-align: right;\n",
       "    }\n",
       "</style>\n",
       "<table border=\"1\" class=\"dataframe\">\n",
       "  <thead>\n",
       "    <tr style=\"text-align: right;\">\n",
       "      <th></th>\n",
       "      <th>Unnamed: 0</th>\n",
       "      <th>TRANSACTION_ID</th>\n",
       "      <th>CUSTOMER_ID</th>\n",
       "      <th>TERMINAL_ID</th>\n",
       "      <th>TX_AMOUNT</th>\n",
       "      <th>TX_TIME_SECONDS</th>\n",
       "      <th>TX_TIME_DAYS</th>\n",
       "      <th>TX_FRAUD</th>\n",
       "      <th>TX_FRAUD_SCENARIO</th>\n",
       "      <th>TX_DATE</th>\n",
       "      <th>TX_TIME</th>\n",
       "    </tr>\n",
       "  </thead>\n",
       "  <tbody>\n",
       "    <tr>\n",
       "      <th>0</th>\n",
       "      <td>694095</td>\n",
       "      <td>694095</td>\n",
       "      <td>4946</td>\n",
       "      <td>5720</td>\n",
       "      <td>0.214695</td>\n",
       "      <td>-0.360455</td>\n",
       "      <td>72</td>\n",
       "      <td>0</td>\n",
       "      <td>0</td>\n",
       "      <td>20230314</td>\n",
       "      <td>101453</td>\n",
       "    </tr>\n",
       "    <tr>\n",
       "      <th>1</th>\n",
       "      <td>1442105</td>\n",
       "      <td>1442105</td>\n",
       "      <td>2539</td>\n",
       "      <td>6266</td>\n",
       "      <td>-0.297778</td>\n",
       "      <td>1.116551</td>\n",
       "      <td>150</td>\n",
       "      <td>0</td>\n",
       "      <td>0</td>\n",
       "      <td>20230531</td>\n",
       "      <td>111438</td>\n",
       "    </tr>\n",
       "    <tr>\n",
       "      <th>2</th>\n",
       "      <td>428441</td>\n",
       "      <td>428441</td>\n",
       "      <td>2020</td>\n",
       "      <td>6099</td>\n",
       "      <td>-0.424343</td>\n",
       "      <td>-0.887427</td>\n",
       "      <td>44</td>\n",
       "      <td>0</td>\n",
       "      <td>0</td>\n",
       "      <td>20230214</td>\n",
       "      <td>135938</td>\n",
       "    </tr>\n",
       "    <tr>\n",
       "      <th>3</th>\n",
       "      <td>872722</td>\n",
       "      <td>872722</td>\n",
       "      <td>4805</td>\n",
       "      <td>6997</td>\n",
       "      <td>-0.432226</td>\n",
       "      <td>-0.009570</td>\n",
       "      <td>90</td>\n",
       "      <td>0</td>\n",
       "      <td>0</td>\n",
       "      <td>20230401</td>\n",
       "      <td>231226</td>\n",
       "    </tr>\n",
       "    <tr>\n",
       "      <th>4</th>\n",
       "      <td>1461480</td>\n",
       "      <td>1461480</td>\n",
       "      <td>2641</td>\n",
       "      <td>4275</td>\n",
       "      <td>-0.313257</td>\n",
       "      <td>1.154907</td>\n",
       "      <td>152</td>\n",
       "      <td>0</td>\n",
       "      <td>0</td>\n",
       "      <td>20230602</td>\n",
       "      <td>115302</td>\n",
       "    </tr>\n",
       "  </tbody>\n",
       "</table>\n",
       "</div>"
      ],
      "text/plain": [
       "   Unnamed: 0  TRANSACTION_ID  CUSTOMER_ID  TERMINAL_ID  TX_AMOUNT  \\\n",
       "0      694095          694095         4946         5720   0.214695   \n",
       "1     1442105         1442105         2539         6266  -0.297778   \n",
       "2      428441          428441         2020         6099  -0.424343   \n",
       "3      872722          872722         4805         6997  -0.432226   \n",
       "4     1461480         1461480         2641         4275  -0.313257   \n",
       "\n",
       "   TX_TIME_SECONDS  TX_TIME_DAYS  TX_FRAUD  TX_FRAUD_SCENARIO   TX_DATE  \\\n",
       "0        -0.360455            72         0                  0  20230314   \n",
       "1         1.116551           150         0                  0  20230531   \n",
       "2        -0.887427            44         0                  0  20230214   \n",
       "3        -0.009570            90         0                  0  20230401   \n",
       "4         1.154907           152         0                  0  20230602   \n",
       "\n",
       "   TX_TIME  \n",
       "0   101453  \n",
       "1   111438  \n",
       "2   135938  \n",
       "3   231226  \n",
       "4   115302  "
      ]
     },
     "execution_count": 37,
     "metadata": {},
     "output_type": "execute_result"
    }
   ],
   "source": [
    "# Print few rows of new df\n",
    "new_df.head()"
   ]
  },
  {
   "cell_type": "code",
   "execution_count": 38,
   "id": "a439e676-2feb-487c-b80c-f2ca86e521a2",
   "metadata": {},
   "outputs": [
    {
     "data": {
      "text/plain": [
       "TX_FRAUD\n",
       "0    235969\n",
       "1    235969\n",
       "Name: count, dtype: int64"
      ]
     },
     "execution_count": 38,
     "metadata": {},
     "output_type": "execute_result"
    }
   ],
   "source": [
    "# Check new class distribution\n",
    "new_df['TX_FRAUD'].value_counts()"
   ]
  },
  {
   "cell_type": "code",
   "execution_count": 39,
   "id": "b074dc8a-af0b-4f41-851f-08125200fd9c",
   "metadata": {},
   "outputs": [],
   "source": [
    "# Split new df into X and y\n",
    "X = new_df.drop('TX_FRAUD', axis=1)\n",
    "y = new_df['TX_FRAUD']"
   ]
  },
  {
   "cell_type": "code",
   "execution_count": 41,
   "id": "b0c68280-e5f6-452a-915b-6e9b4d35463e",
   "metadata": {},
   "outputs": [],
   "source": [
    "# Train test split on Undersampled data\n",
    "X_train, X_test, y_train, y_test = train_test_split(X, y, test_size=0.2, random_state=42)"
   ]
  },
  {
   "cell_type": "code",
   "execution_count": 42,
   "id": "dc5902e7-f8c2-40c1-a0fc-6f9035af50e0",
   "metadata": {},
   "outputs": [
    {
     "name": "stdout",
     "output_type": "stream",
     "text": [
      "\n",
      "================ Logistic Regression ================\n",
      "\n"
     ]
    },
    {
     "name": "stderr",
     "output_type": "stream",
     "text": [
      "C:\\Users\\ADITYA SINGH\\AppData\\Local\\Programs\\Python\\Python312\\Lib\\site-packages\\sklearn\\linear_model\\_logistic.py:469: ConvergenceWarning: lbfgs failed to converge (status=1):\n",
      "STOP: TOTAL NO. of ITERATIONS REACHED LIMIT.\n",
      "\n",
      "Increase the number of iterations (max_iter) or scale the data as shown in:\n",
      "    https://scikit-learn.org/stable/modules/preprocessing.html\n",
      "Please also refer to the documentation for alternative solver options:\n",
      "    https://scikit-learn.org/stable/modules/linear_model.html#logistic-regression\n",
      "  n_iter_i = _check_optimize_result(\n"
     ]
    },
    {
     "name": "stdout",
     "output_type": "stream",
     "text": [
      "Confusion Matrix:\n",
      "[[47210     0]\n",
      " [    0 47178]]\n",
      "\n",
      "\n",
      "Accuracy: 1.0\n",
      "\n",
      "\n",
      "Classification Report:\n",
      "              precision    recall  f1-score   support\n",
      "\n",
      "           0       1.00      1.00      1.00     47210\n",
      "           1       1.00      1.00      1.00     47178\n",
      "\n",
      "    accuracy                           1.00     94388\n",
      "   macro avg       1.00      1.00      1.00     94388\n",
      "weighted avg       1.00      1.00      1.00     94388\n",
      "\n",
      "\n",
      "ROC-AUC Score (Imbalanced Data): 1.0\n",
      "\n"
     ]
    },
    {
     "data": {
      "image/png": "[encoded data removed]",
      "text/plain": [
       "<Figure size 640x480 with 1 Axes>"
      ]
     },
     "metadata": {},
     "output_type": "display_data"
    },
    {
     "name": "stdout",
     "output_type": "stream",
     "text": [
      "\n",
      "\n",
      "\n",
      "================ Decision Tree Classifier ================\n",
      "\n",
      "Confusion Matrix:\n",
      "[[47210     0]\n",
      " [    0 47178]]\n",
      "\n",
      "\n",
      "Accuracy: 1.0\n",
      "\n",
      "\n",
      "Classification Report:\n",
      "              precision    recall  f1-score   support\n",
      "\n",
      "           0       1.00      1.00      1.00     47210\n",
      "           1       1.00      1.00      1.00     47178\n",
      "\n",
      "    accuracy                           1.00     94388\n",
      "   macro avg       1.00      1.00      1.00     94388\n",
      "weighted avg       1.00      1.00      1.00     94388\n",
      "\n",
      "\n",
      "ROC-AUC Score (Imbalanced Data): 1.0\n",
      "\n"
     ]
    },
    {
     "data": {
      "image/png": "[encoded data removed]",
      "text/plain": [
       "<Figure size 640x480 with 1 Axes>"
      ]
     },
     "metadata": {},
     "output_type": "display_data"
    },
    {
     "name": "stdout",
     "output_type": "stream",
     "text": [
      "\n",
      "\n",
      "\n",
      "================ RandomForestClassifier ================\n",
      "\n",
      "Confusion Matrix:\n",
      "[[47210     0]\n",
      " [    0 47178]]\n",
      "\n",
      "\n",
      "Accuracy: 1.0\n",
      "\n",
      "\n",
      "Classification Report:\n",
      "              precision    recall  f1-score   support\n",
      "\n",
      "           0       1.00      1.00      1.00     47210\n",
      "           1       1.00      1.00      1.00     47178\n",
      "\n",
      "    accuracy                           1.00     94388\n",
      "   macro avg       1.00      1.00      1.00     94388\n",
      "weighted avg       1.00      1.00      1.00     94388\n",
      "\n",
      "\n",
      "ROC-AUC Score (Imbalanced Data): 1.0\n",
      "\n"
     ]
    },
    {
     "data": {
      "image/png": "[encoded data removed]",
      "text/plain": [
       "<Figure size 640x480 with 1 Axes>"
      ]
     },
     "metadata": {},
     "output_type": "display_data"
    },
    {
     "name": "stdout",
     "output_type": "stream",
     "text": [
      "\n",
      "\n"
     ]
    }
   ],
   "source": [
    "# Train models with undersampled data\n",
    "# Call the train_model function\n",
    "train_model(X_train, X_test, y_train, y_test)"
   ]
  },
  {
   "cell_type": "markdown",
   "id": "44ab2d0f-0e8a-49b2-b4ba-a3be46cac1be",
   "metadata": {},
   "source": [
    "Oversampling"
   ]
  },
  {
   "cell_type": "markdown",
   "id": "0b2ea4f0-5168-49d4-884d-d02dbc972ffb",
   "metadata": {},
   "source": [
    "Use SMOTE to balance the dataset by oversampling the minority class"
   ]
  },
  {
   "cell_type": "code",
   "execution_count": 43,
   "id": "ae74f515-5020-4737-bd01-795142d9ff54",
   "metadata": {},
   "outputs": [],
   "source": [
    "# Split features and target\n",
    "X = df.drop('TX_FRAUD', axis=1)\n",
    "y = df['TX_FRAUD']"
   ]
  },
  {
   "cell_type": "code",
   "execution_count": 44,
   "id": "fffd6816-6789-4b35-bc5d-8b6824024c2e",
   "metadata": {},
   "outputs": [],
   "source": [
    "# Apply SMOTE for oversampling\n",
    "smote = SMOTE(random_state=42)\n",
    "X_resampled, y_resampled = smote.fit_resample(X, y)"
   ]
  },
  {
   "cell_type": "code",
   "execution_count": 45,
   "id": "bf8915a9-db3c-42c4-b2f6-aa71dcaf27be",
   "metadata": {},
   "outputs": [
    {
     "data": {
      "text/plain": [
       "TX_FRAUD\n",
       "0    1518186\n",
       "1    1518186\n",
       "Name: count, dtype: int64"
      ]
     },
     "execution_count": 45,
     "metadata": {},
     "output_type": "execute_result"
    }
   ],
   "source": [
    "# Check new class distribution\n",
    "y_resampled.value_counts()"
   ]
  },
  {
   "cell_type": "code",
   "execution_count": 46,
   "id": "68b685cb-6228-47d5-9f85-e460938c3d41",
   "metadata": {},
   "outputs": [],
   "source": [
    "X_train, X_test, y_train, y_test = train_test_split(X_resampled, y_resampled, test_size=0.2, random_state=42)"
   ]
  },
  {
   "cell_type": "code",
   "execution_count": 47,
   "id": "c884ed8d-fbaf-425a-9603-8b27c501ecef",
   "metadata": {},
   "outputs": [
    {
     "name": "stdout",
     "output_type": "stream",
     "text": [
      "\n",
      "================ Logistic Regression ================\n",
      "\n"
     ]
    },
    {
     "name": "stderr",
     "output_type": "stream",
     "text": [
      "C:\\Users\\ADITYA SINGH\\AppData\\Local\\Programs\\Python\\Python312\\Lib\\site-packages\\sklearn\\linear_model\\_logistic.py:469: ConvergenceWarning: lbfgs failed to converge (status=1):\n",
      "STOP: TOTAL NO. of ITERATIONS REACHED LIMIT.\n",
      "\n",
      "Increase the number of iterations (max_iter) or scale the data as shown in:\n",
      "    https://scikit-learn.org/stable/modules/preprocessing.html\n",
      "Please also refer to the documentation for alternative solver options:\n",
      "    https://scikit-learn.org/stable/modules/linear_model.html#logistic-regression\n",
      "  n_iter_i = _check_optimize_result(\n"
     ]
    },
    {
     "name": "stdout",
     "output_type": "stream",
     "text": [
      "Confusion Matrix:\n",
      "[[303666      0]\n",
      " [     0 303609]]\n",
      "\n",
      "\n",
      "Accuracy: 1.0\n",
      "\n",
      "\n",
      "Classification Report:\n",
      "              precision    recall  f1-score   support\n",
      "\n",
      "           0       1.00      1.00      1.00    303666\n",
      "           1       1.00      1.00      1.00    303609\n",
      "\n",
      "    accuracy                           1.00    607275\n",
      "   macro avg       1.00      1.00      1.00    607275\n",
      "weighted avg       1.00      1.00      1.00    607275\n",
      "\n",
      "\n",
      "ROC-AUC Score (Imbalanced Data): 1.0\n",
      "\n"
     ]
    },
    {
     "data": {
      "image/png": "[encoded data removed]",
      "text/plain": [
       "<Figure size 640x480 with 1 Axes>"
      ]
     },
     "metadata": {},
     "output_type": "display_data"
    },
    {
     "name": "stdout",
     "output_type": "stream",
     "text": [
      "\n",
      "\n",
      "\n",
      "================ Decision Tree Classifier ================\n",
      "\n",
      "Confusion Matrix:\n",
      "[[303666      0]\n",
      " [     0 303609]]\n",
      "\n",
      "\n",
      "Accuracy: 1.0\n",
      "\n",
      "\n",
      "Classification Report:\n",
      "              precision    recall  f1-score   support\n",
      "\n",
      "           0       1.00      1.00      1.00    303666\n",
      "           1       1.00      1.00      1.00    303609\n",
      "\n",
      "    accuracy                           1.00    607275\n",
      "   macro avg       1.00      1.00      1.00    607275\n",
      "weighted avg       1.00      1.00      1.00    607275\n",
      "\n",
      "\n",
      "ROC-AUC Score (Imbalanced Data): 1.0\n",
      "\n"
     ]
    },
    {
     "data": {
      "image/png": "[encoded data removed]",
      "text/plain": [
       "<Figure size 640x480 with 1 Axes>"
      ]
     },
     "metadata": {},
     "output_type": "display_data"
    },
    {
     "name": "stdout",
     "output_type": "stream",
     "text": [
      "\n",
      "\n",
      "\n",
      "================ RandomForestClassifier ================\n",
      "\n",
      "Confusion Matrix:\n",
      "[[303666      0]\n",
      " [     0 303609]]\n",
      "\n",
      "\n",
      "Accuracy: 1.0\n",
      "\n",
      "\n",
      "Classification Report:\n",
      "              precision    recall  f1-score   support\n",
      "\n",
      "           0       1.00      1.00      1.00    303666\n",
      "           1       1.00      1.00      1.00    303609\n",
      "\n",
      "    accuracy                           1.00    607275\n",
      "   macro avg       1.00      1.00      1.00    607275\n",
      "weighted avg       1.00      1.00      1.00    607275\n",
      "\n",
      "\n",
      "ROC-AUC Score (Imbalanced Data): 1.0\n",
      "\n"
     ]
    },
    {
     "data": {
      "image/png": "[encoded data removed]",
      "text/plain": [
       "<Figure size 640x480 with 1 Axes>"
      ]
     },
     "metadata": {},
     "output_type": "display_data"
    },
    {
     "name": "stdout",
     "output_type": "stream",
     "text": [
      "\n",
      "\n"
     ]
    }
   ],
   "source": [
    "# Train models with undersampled data\n",
    "# Call the train_model function\n",
    "train_model(X_train, X_test, y_train, y_test)"
   ]
  },
  {
   "cell_type": "markdown",
   "id": "0e3b38a4-d162-40b5-90c6-3725cb6a81dd",
   "metadata": {},
   "source": [
    "Save the Trained Model (Decision Tree Classifier)¶"
   ]
  },
  {
   "cell_type": "code",
   "execution_count": 48,
   "id": "2f73a9c6-11a6-4d4d-bd79-b55fdbbbe318",
   "metadata": {},
   "outputs": [
    {
     "data": {
      "text/html": [
       "<style>#sk-container-id-1 {\n",
       "  /* Definition of color scheme common for light and dark mode */\n",
       "  --sklearn-color-text: black;\n",
       "  --sklearn-color-line: gray;\n",
       "  /* Definition of color scheme for unfitted estimators */\n",
       "  --sklearn-color-unfitted-level-0: #fff5e6;\n",
       "  --sklearn-color-unfitted-level-1: #f6e4d2;\n",
       "  --sklearn-color-unfitted-level-2: #ffe0b3;\n",
       "  --sklearn-color-unfitted-level-3: chocolate;\n",
       "  /* Definition of color scheme for fitted estimators */\n",
       "  --sklearn-color-fitted-level-0: #f0f8ff;\n",
       "  --sklearn-color-fitted-level-1: #d4ebff;\n",
       "  --sklearn-color-fitted-level-2: #b3dbfd;\n",
       "  --sklearn-color-fitted-level-3: cornflowerblue;\n",
       "\n",
       "  /* Specific color for light theme */\n",
       "  --sklearn-color-text-on-default-background: var(--sg-text-color, var(--theme-code-foreground, var(--jp-content-font-color1, black)));\n",
       "  --sklearn-color-background: var(--sg-background-color, var(--theme-background, var(--jp-layout-color0, white)));\n",
       "  --sklearn-color-border-box: var(--sg-text-color, var(--theme-code-foreground, var(--jp-content-font-color1, black)));\n",
       "  --sklearn-color-icon: #696969;\n",
       "\n",
       "  @media (prefers-color-scheme: dark) {\n",
       "    /* Redefinition of color scheme for dark theme */\n",
       "    --sklearn-color-text-on-default-background: var(--sg-text-color, var(--theme-code-foreground, var(--jp-content-font-color1, white)));\n",
       "    --sklearn-color-background: var(--sg-background-color, var(--theme-background, var(--jp-layout-color0, #111)));\n",
       "    --sklearn-color-border-box: var(--sg-text-color, var(--theme-code-foreground, var(--jp-content-font-color1, white)));\n",
       "    --sklearn-color-icon: #878787;\n",
       "  }\n",
       "}\n",
       "\n",
       "#sk-container-id-1 {\n",
       "  color: var(--sklearn-color-text);\n",
       "}\n",
       "\n",
       "#sk-container-id-1 pre {\n",
       "  padding: 0;\n",
       "}\n",
       "\n",
       "#sk-container-id-1 input.sk-hidden--visually {\n",
       "  border: 0;\n",
       "  clip: rect(1px 1px 1px 1px);\n",
       "  clip: rect(1px, 1px, 1px, 1px);\n",
       "  height: 1px;\n",
       "  margin: -1px;\n",
       "  overflow: hidden;\n",
       "  padding: 0;\n",
       "  position: absolute;\n",
       "  width: 1px;\n",
       "}\n",
       "\n",
       "#sk-container-id-1 div.sk-dashed-wrapped {\n",
       "  border: 1px dashed var(--sklearn-color-line);\n",
       "  margin: 0 0.4em 0.5em 0.4em;\n",
       "  box-sizing: border-box;\n",
       "  padding-bottom: 0.4em;\n",
       "  background-color: var(--sklearn-color-background);\n",
       "}\n",
       "\n",
       "#sk-container-id-1 div.sk-container {\n",
       "  /* jupyter's `normalize.less` sets `[hidden] { display: none; }`\n",
       "     but bootstrap.min.css set `[hidden] { display: none !important; }`\n",
       "     so we also need the `!important` here to be able to override the\n",
       "     default hidden behavior on the sphinx rendered scikit-learn.org.\n",
       "     See: https://github.com/scikit-learn/scikit-learn/issues/21755 */\n",
       "  display: inline-block !important;\n",
       "  position: relative;\n",
       "}\n",
       "\n",
       "#sk-container-id-1 div.sk-text-repr-fallback {\n",
       "  display: none;\n",
       "}\n",
       "\n",
       "div.sk-parallel-item,\n",
       "div.sk-serial,\n",
       "div.sk-item {\n",
       "  /* draw centered vertical line to link estimators */\n",
       "  background-image: linear-gradient(var(--sklearn-color-text-on-default-background), var(--sklearn-color-text-on-default-background));\n",
       "  background-size: 2px 100%;\n",
       "  background-repeat: no-repeat;\n",
       "  background-position: center center;\n",
       "}\n",
       "\n",
       "/* Parallel-specific style estimator block */\n",
       "\n",
       "#sk-container-id-1 div.sk-parallel-item::after {\n",
       "  content: \"\";\n",
       "  width: 100%;\n",
       "  border-bottom: 2px solid var(--sklearn-color-text-on-default-background);\n",
       "  flex-grow: 1;\n",
       "}\n",
       "\n",
       "#sk-container-id-1 div.sk-parallel {\n",
       "  display: flex;\n",
       "  align-items: stretch;\n",
       "  justify-content: center;\n",
       "  background-color: var(--sklearn-color-background);\n",
       "  position: relative;\n",
       "}\n",
       "\n",
       "#sk-container-id-1 div.sk-parallel-item {\n",
       "  display: flex;\n",
       "  flex-direction: column;\n",
       "}\n",
       "\n",
       "#sk-container-id-1 div.sk-parallel-item:first-child::after {\n",
       "  align-self: flex-end;\n",
       "  width: 50%;\n",
       "}\n",
       "\n",
       "#sk-container-id-1 div.sk-parallel-item:last-child::after {\n",
       "  align-self: flex-start;\n",
       "  width: 50%;\n",
       "}\n",
       "\n",
       "#sk-container-id-1 div.sk-parallel-item:only-child::after {\n",
       "  width: 0;\n",
       "}\n",
       "\n",
       "/* Serial-specific style estimator block */\n",
       "\n",
       "#sk-container-id-1 div.sk-serial {\n",
       "  display: flex;\n",
       "  flex-direction: column;\n",
       "  align-items: center;\n",
       "  background-color: var(--sklearn-color-background);\n",
       "  padding-right: 1em;\n",
       "  padding-left: 1em;\n",
       "}\n",
       "\n",
       "\n",
       "/* Toggleable style: style used for estimator/Pipeline/ColumnTransformer box that is\n",
       "clickable and can be expanded/collapsed.\n",
       "- Pipeline and ColumnTransformer use this feature and define the default style\n",
       "- Estimators will overwrite some part of the style using the `sk-estimator` class\n",
       "*/\n",
       "\n",
       "/* Pipeline and ColumnTransformer style (default) */\n",
       "\n",
       "#sk-container-id-1 div.sk-toggleable {\n",
       "  /* Default theme specific background. It is overwritten whether we have a\n",
       "  specific estimator or a Pipeline/ColumnTransformer */\n",
       "  background-color: var(--sklearn-color-background);\n",
       "}\n",
       "\n",
       "/* Toggleable label */\n",
       "#sk-container-id-1 label.sk-toggleable__label {\n",
       "  cursor: pointer;\n",
       "  display: block;\n",
       "  width: 100%;\n",
       "  margin-bottom: 0;\n",
       "  padding: 0.5em;\n",
       "  box-sizing: border-box;\n",
       "  text-align: center;\n",
       "}\n",
       "\n",
       "#sk-container-id-1 label.sk-toggleable__label-arrow:before {\n",
       "  /* Arrow on the left of the label */\n",
       "  content: \"▸\";\n",
       "  float: left;\n",
       "  margin-right: 0.25em;\n",
       "  color: var(--sklearn-color-icon);\n",
       "}\n",
       "\n",
       "#sk-container-id-1 label.sk-toggleable__label-arrow:hover:before {\n",
       "  color: var(--sklearn-color-text);\n",
       "}\n",
       "\n",
       "/* Toggleable content - dropdown */\n",
       "\n",
       "#sk-container-id-1 div.sk-toggleable__content {\n",
       "  max-height: 0;\n",
       "  max-width: 0;\n",
       "  overflow: hidden;\n",
       "  text-align: left;\n",
       "  /* unfitted */\n",
       "  background-color: var(--sklearn-color-unfitted-level-0);\n",
       "}\n",
       "\n",
       "#sk-container-id-1 div.sk-toggleable__content.fitted {\n",
       "  /* fitted */\n",
       "  background-color: var(--sklearn-color-fitted-level-0);\n",
       "}\n",
       "\n",
       "#sk-container-id-1 div.sk-toggleable__content pre {\n",
       "  margin: 0.2em;\n",
       "  border-radius: 0.25em;\n",
       "  color: var(--sklearn-color-text);\n",
       "  /* unfitted */\n",
       "  background-color: var(--sklearn-color-unfitted-level-0);\n",
       "}\n",
       "\n",
       "#sk-container-id-1 div.sk-toggleable__content.fitted pre {\n",
       "  /* unfitted */\n",
       "  background-color: var(--sklearn-color-fitted-level-0);\n",
       "}\n",
       "\n",
       "#sk-container-id-1 input.sk-toggleable__control:checked~div.sk-toggleable__content {\n",
       "  /* Expand drop-down */\n",
       "  max-height: 200px;\n",
       "  max-width: 100%;\n",
       "  overflow: auto;\n",
       "}\n",
       "\n",
       "#sk-container-id-1 input.sk-toggleable__control:checked~label.sk-toggleable__label-arrow:before {\n",
       "  content: \"▾\";\n",
       "}\n",
       "\n",
       "/* Pipeline/ColumnTransformer-specific style */\n",
       "\n",
       "#sk-container-id-1 div.sk-label input.sk-toggleable__control:checked~label.sk-toggleable__label {\n",
       "  color: var(--sklearn-color-text);\n",
       "  background-color: var(--sklearn-color-unfitted-level-2);\n",
       "}\n",
       "\n",
       "#sk-container-id-1 div.sk-label.fitted input.sk-toggleable__control:checked~label.sk-toggleable__label {\n",
       "  background-color: var(--sklearn-color-fitted-level-2);\n",
       "}\n",
       "\n",
       "/* Estimator-specific style */\n",
       "\n",
       "/* Colorize estimator box */\n",
       "#sk-container-id-1 div.sk-estimator input.sk-toggleable__control:checked~label.sk-toggleable__label {\n",
       "  /* unfitted */\n",
       "  background-color: var(--sklearn-color-unfitted-level-2);\n",
       "}\n",
       "\n",
       "#sk-container-id-1 div.sk-estimator.fitted input.sk-toggleable__control:checked~label.sk-toggleable__label {\n",
       "  /* fitted */\n",
       "  background-color: var(--sklearn-color-fitted-level-2);\n",
       "}\n",
       "\n",
       "#sk-container-id-1 div.sk-label label.sk-toggleable__label,\n",
       "#sk-container-id-1 div.sk-label label {\n",
       "  /* The background is the default theme color */\n",
       "  color: var(--sklearn-color-text-on-default-background);\n",
       "}\n",
       "\n",
       "/* On hover, darken the color of the background */\n",
       "#sk-container-id-1 div.sk-label:hover label.sk-toggleable__label {\n",
       "  color: var(--sklearn-color-text);\n",
       "  background-color: var(--sklearn-color-unfitted-level-2);\n",
       "}\n",
       "\n",
       "/* Label box, darken color on hover, fitted */\n",
       "#sk-container-id-1 div.sk-label.fitted:hover label.sk-toggleable__label.fitted {\n",
       "  color: var(--sklearn-color-text);\n",
       "  background-color: var(--sklearn-color-fitted-level-2);\n",
       "}\n",
       "\n",
       "/* Estimator label */\n",
       "\n",
       "#sk-container-id-1 div.sk-label label {\n",
       "  font-family: monospace;\n",
       "  font-weight: bold;\n",
       "  display: inline-block;\n",
       "  line-height: 1.2em;\n",
       "}\n",
       "\n",
       "#sk-container-id-1 div.sk-label-container {\n",
       "  text-align: center;\n",
       "}\n",
       "\n",
       "/* Estimator-specific */\n",
       "#sk-container-id-1 div.sk-estimator {\n",
       "  font-family: monospace;\n",
       "  border: 1px dotted var(--sklearn-color-border-box);\n",
       "  border-radius: 0.25em;\n",
       "  box-sizing: border-box;\n",
       "  margin-bottom: 0.5em;\n",
       "  /* unfitted */\n",
       "  background-color: var(--sklearn-color-unfitted-level-0);\n",
       "}\n",
       "\n",
       "#sk-container-id-1 div.sk-estimator.fitted {\n",
       "  /* fitted */\n",
       "  background-color: var(--sklearn-color-fitted-level-0);\n",
       "}\n",
       "\n",
       "/* on hover */\n",
       "#sk-container-id-1 div.sk-estimator:hover {\n",
       "  /* unfitted */\n",
       "  background-color: var(--sklearn-color-unfitted-level-2);\n",
       "}\n",
       "\n",
       "#sk-container-id-1 div.sk-estimator.fitted:hover {\n",
       "  /* fitted */\n",
       "  background-color: var(--sklearn-color-fitted-level-2);\n",
       "}\n",
       "\n",
       "/* Specification for estimator info (e.g. \"i\" and \"?\") */\n",
       "\n",
       "/* Common style for \"i\" and \"?\" */\n",
       "\n",
       ".sk-estimator-doc-link,\n",
       "a:link.sk-estimator-doc-link,\n",
       "a:visited.sk-estimator-doc-link {\n",
       "  float: right;\n",
       "  font-size: smaller;\n",
       "  line-height: 1em;\n",
       "  font-family: monospace;\n",
       "  background-color: var(--sklearn-color-background);\n",
       "  border-radius: 1em;\n",
       "  height: 1em;\n",
       "  width: 1em;\n",
       "  text-decoration: none !important;\n",
       "  margin-left: 1ex;\n",
       "  /* unfitted */\n",
       "  border: var(--sklearn-color-unfitted-level-1) 1pt solid;\n",
       "  color: var(--sklearn-color-unfitted-level-1);\n",
       "}\n",
       "\n",
       ".sk-estimator-doc-link.fitted,\n",
       "a:link.sk-estimator-doc-link.fitted,\n",
       "a:visited.sk-estimator-doc-link.fitted {\n",
       "  /* fitted */\n",
       "  border: var(--sklearn-color-fitted-level-1) 1pt solid;\n",
       "  color: var(--sklearn-color-fitted-level-1);\n",
       "}\n",
       "\n",
       "/* On hover */\n",
       "div.sk-estimator:hover .sk-estimator-doc-link:hover,\n",
       ".sk-estimator-doc-link:hover,\n",
       "div.sk-label-container:hover .sk-estimator-doc-link:hover,\n",
       ".sk-estimator-doc-link:hover {\n",
       "  /* unfitted */\n",
       "  background-color: var(--sklearn-color-unfitted-level-3);\n",
       "  color: var(--sklearn-color-background);\n",
       "  text-decoration: none;\n",
       "}\n",
       "\n",
       "div.sk-estimator.fitted:hover .sk-estimator-doc-link.fitted:hover,\n",
       ".sk-estimator-doc-link.fitted:hover,\n",
       "div.sk-label-container:hover .sk-estimator-doc-link.fitted:hover,\n",
       ".sk-estimator-doc-link.fitted:hover {\n",
       "  /* fitted */\n",
       "  background-color: var(--sklearn-color-fitted-level-3);\n",
       "  color: var(--sklearn-color-background);\n",
       "  text-decoration: none;\n",
       "}\n",
       "\n",
       "/* Span, style for the box shown on hovering the info icon */\n",
       ".sk-estimator-doc-link span {\n",
       "  display: none;\n",
       "  z-index: 9999;\n",
       "  position: relative;\n",
       "  font-weight: normal;\n",
       "  right: .2ex;\n",
       "  padding: .5ex;\n",
       "  margin: .5ex;\n",
       "  width: min-content;\n",
       "  min-width: 20ex;\n",
       "  max-width: 50ex;\n",
       "  color: var(--sklearn-color-text);\n",
       "  box-shadow: 2pt 2pt 4pt #999;\n",
       "  /* unfitted */\n",
       "  background: var(--sklearn-color-unfitted-level-0);\n",
       "  border: .5pt solid var(--sklearn-color-unfitted-level-3);\n",
       "}\n",
       "\n",
       ".sk-estimator-doc-link.fitted span {\n",
       "  /* fitted */\n",
       "  background: var(--sklearn-color-fitted-level-0);\n",
       "  border: var(--sklearn-color-fitted-level-3);\n",
       "}\n",
       "\n",
       ".sk-estimator-doc-link:hover span {\n",
       "  display: block;\n",
       "}\n",
       "\n",
       "/* \"?\"-specific style due to the `<a>` HTML tag */\n",
       "\n",
       "#sk-container-id-1 a.estimator_doc_link {\n",
       "  float: right;\n",
       "  font-size: 1rem;\n",
       "  line-height: 1em;\n",
       "  font-family: monospace;\n",
       "  background-color: var(--sklearn-color-background);\n",
       "  border-radius: 1rem;\n",
       "  height: 1rem;\n",
       "  width: 1rem;\n",
       "  text-decoration: none;\n",
       "  /* unfitted */\n",
       "  color: var(--sklearn-color-unfitted-level-1);\n",
       "  border: var(--sklearn-color-unfitted-level-1) 1pt solid;\n",
       "}\n",
       "\n",
       "#sk-container-id-1 a.estimator_doc_link.fitted {\n",
       "  /* fitted */\n",
       "  border: var(--sklearn-color-fitted-level-1) 1pt solid;\n",
       "  color: var(--sklearn-color-fitted-level-1);\n",
       "}\n",
       "\n",
       "/* On hover */\n",
       "#sk-container-id-1 a.estimator_doc_link:hover {\n",
       "  /* unfitted */\n",
       "  background-color: var(--sklearn-color-unfitted-level-3);\n",
       "  color: var(--sklearn-color-background);\n",
       "  text-decoration: none;\n",
       "}\n",
       "\n",
       "#sk-container-id-1 a.estimator_doc_link.fitted:hover {\n",
       "  /* fitted */\n",
       "  background-color: var(--sklearn-color-fitted-level-3);\n",
       "}\n",
       "</style><div id=\"sk-container-id-1\" class=\"sk-top-container\"><div class=\"sk-text-repr-fallback\"><pre>RandomForestClassifier(random_state=42)</pre><b>In a Jupyter environment, please rerun this cell to show the HTML representation or trust the notebook. <br />On GitHub, the HTML representation is unable to render, please try loading this page with nbviewer.org.</b></div><div class=\"sk-container\" hidden><div class=\"sk-item\"><div class=\"sk-estimator fitted sk-toggleable\"><input class=\"sk-toggleable__control sk-hidden--visually\" id=\"sk-estimator-id-1\" type=\"checkbox\" checked><label for=\"sk-estimator-id-1\" class=\"sk-toggleable__label fitted sk-toggleable__label-arrow fitted\">&nbsp;&nbsp;RandomForestClassifier<a class=\"sk-estimator-doc-link fitted\" rel=\"noreferrer\" target=\"_blank\" href=\"https://scikit-learn.org/1.5/modules/generated/sklearn.ensemble.RandomForestClassifier.html\">?<span>Documentation for RandomForestClassifier</span></a><span class=\"sk-estimator-doc-link fitted\">i<span>Fitted</span></span></label><div class=\"sk-toggleable__content fitted\"><pre>RandomForestClassifier(random_state=42)</pre></div> </div></div></div></div>"
      ],
      "text/plain": [
       "RandomForestClassifier(random_state=42)"
      ]
     },
     "execution_count": 48,
     "metadata": {},
     "output_type": "execute_result"
    }
   ],
   "source": [
    "# Pick a model, e.g. Decision Tree Classifier\n",
    "# Fit the model with X_train, y_train\n",
    "model = RandomForestClassifier(random_state=42)\n",
    "model.fit(X_train, y_train)"
   ]
  },
  {
   "cell_type": "code",
   "execution_count": 49,
   "id": "c23828ae-8f70-4071-b9f2-a5bcc7c86ec4",
   "metadata": {},
   "outputs": [
    {
     "data": {
      "text/plain": [
       "['Final Transactions.pkl']"
      ]
     },
     "execution_count": 49,
     "metadata": {},
     "output_type": "execute_result"
    }
   ],
   "source": [
    "# Save the model\n",
    "joblib.dump(model, \"Final Transactions.pkl\")"
   ]
  },
  {
   "cell_type": "code",
   "execution_count": 50,
   "id": "f7a0bee9-6c95-4d86-8aa1-c7c04a2a28cf",
   "metadata": {},
   "outputs": [],
   "source": [
    "# Load the model\n",
    "model = joblib.load(\"Final Transactions.pkl\")"
   ]
  },
  {
   "cell_type": "code",
   "execution_count": 51,
   "id": "429c37aa-0cf4-40e7-8189-51c0940f1685",
   "metadata": {},
   "outputs": [
    {
     "name": "stdout",
     "output_type": "stream",
     "text": [
      "Normal Transaction\n"
     ]
    }
   ],
   "source": [
    "# Predict with a sample data\n",
    "# Define the feature names (same as your training data)\n",
    "feature_names = ['Unnamed: 0', 'TRANSACTION_ID', 'CUSTOMER_ID', 'TERMINAL_ID', 'TX_AMOUNT', 'TX_TIME_SECONDS', 'TX_TIME_DAYS', 'TX_FRAUD_SCENARIO', 'TX_DATE', 'TX_TIME']\n",
    "\n",
    "# Create a DataFrame for the sample data\n",
    "sample_data = pd.DataFrame([[3, 3, 4128, 8737, 620.65, 569, 0, 0, 20230101, 929]], columns=feature_names)\n",
    "\n",
    "# Make a prediction\n",
    "pred = model.predict(sample_data)\n",
    "\n",
    "# Print the prediction result\n",
    "if pred == 0:\n",
    "    print(\"Normal Transaction\")\n",
    "else:\n",
    "    print(\"Fraud Transaction\")\n"
   ]
  },
  {
   "cell_type": "code",
   "execution_count": null,
   "id": "6da649ca-7055-4d05-9a84-7cb236f63996",
   "metadata": {},
   "outputs": [],
   "source": []
  }
 ],
 "metadata": {
  "kernelspec": {
   "display_name": "Python 3 (ipykernel)",
   "language": "python",
   "name": "python3"
  },
  "language_info": {
   "codemirror_mode": {
    "name": "ipython",
    "version": 3
   },
   "file_extension": ".py",
   "mimetype": "text/x-python",
   "name": "python",
   "nbconvert_exporter": "python",
   "pygments_lexer": "ipython3",
   "version": "3.12.3"
  }
 },
 "nbformat": 4,
 "nbformat_minor": 5
}
